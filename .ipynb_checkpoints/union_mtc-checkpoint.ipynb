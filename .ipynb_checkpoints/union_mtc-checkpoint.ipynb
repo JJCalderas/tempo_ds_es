{
 "cells": [
  {
   "cell_type": "markdown",
   "id": "e1c9fdad-3049-4fea-b5ff-c6c883b70104",
   "metadata": {},
   "source": [
    "### Union directa de los DSs.json\n",
    "- Entrenados y evaluados con mTc\n",
    "- Todos Juntos para entrenar\n",
    "- probar solo con haha\n",
    "- Da ~82%"
   ]
  },
  {
   "cell_type": "code",
   "execution_count": null,
   "id": "94eab35e-215e-42e2-8847-1633fe7069ae",
   "metadata": {},
   "outputs": [],
   "source": []
  },
  {
   "cell_type": "code",
   "execution_count": 1,
   "id": "34b5cd04-d858-4b10-9ed6-d552a2a62e8d",
   "metadata": {},
   "outputs": [],
   "source": [
    "import pandas as pd\n",
    "from microtc.textmodel import TextModel\n",
    "from sklearn import metrics\n",
    "from glob import glob\n",
    "from  threading import Thread\n",
    "from time import sleep, perf_counter\n",
    "from  threading import Thread\n",
    "from time import sleep, perf_counter"
   ]
  },
  {
   "cell_type": "code",
   "execution_count": 2,
   "id": "c720ae43-29be-4f78-9ae7-382fe3b5047e",
   "metadata": {},
   "outputs": [],
   "source": [
    "# concatenar todos los train.json\n",
    "haha_train_df = pd.read_json(\"../haha2021_Es_train.json\", lines=True)\n",
    "exist_train_df = pd.read_json(\"../exist2021_Es_train.json\", lines=True)\n",
    "meoffendes_train_df = pd.read_json(\"../meoffendes2021_Es_train.json\", lines=True)\n",
    "davincis_train_df = pd.read_json(\"../davincis2022_Es_train.json\", lines=True)\n",
    "misogyny_train_df = pd.read_json(\"../misoginia_Es_train.json\", lines=True)\n",
    "misogyny_train_df = misogyny_train_df[['text','klass']]\n",
    "semevalanger_train_df = pd.read_json(\"../semeval2018_anger_Es_train.json\", lines=True)\n",
    "semevalanger_train_df = semevalanger_train_df[['text','klass']]\n",
    "\n",
    "# usar solo un _test.json\n",
    "#haha_test_df = pd.read_json(\"../haha2021_Es_test.json\", lines=True)\n",
    "#exist_test_df = pd.read_json(\"../exist2021_Es_test.json\", lines=True)\n",
    "meoffendes_test_df = pd.read_json(\"../meoffendes2021_Es_test.json\", lines=True)\n",
    "#davincis_test_df = pd.read_json(\"../davincis2022_Es_test.json\", lines=True)\n",
    "#misogyny_test_df = pd.read_json(\"../misoginia_Es_test.json\", lines=True)\n",
    "#misogyny_test_df = misogyny_test_df[['text','klass']]\n",
    "#semevalanger_test_df = pd.read_json(\"../semeval2018_anger_Es_test.json\", lines=True)\n",
    "#semevalanger_test_df = semevalanger_test_df[['text','klass']]\n",
    "\n",
    "train_df = pd.concat([haha_train_df, exist_train_df, davincis_train_df, misogyny_train_df, semevalanger_train_df])\n",
    "test_df = meoffendes_test_df\n",
    "\n",
    "X_train = train_df[['text']]\n",
    "y_train = train_df[['klass']]\n",
    "    \n",
    "X_test = test_df[['text']]\n",
    "y_test = test_df[['klass']]\n",
    "\n",
    "\n",
    "X_train = X_train.squeeze() \n",
    "X_test = X_test.squeeze() \n",
    "y_train = y_train.squeeze() \n",
    "y_test = y_test.squeeze()"
   ]
  },
  {
   "cell_type": "code",
   "execution_count": 3,
   "id": "f63914b3-058a-4044-88a3-716a5d38afef",
   "metadata": {},
   "outputs": [],
   "source": [
    "from microtc.textmodel import TextModel\n",
    "from sklearn.svm import  LinearSVC\n",
    "lsvc = LinearSVC(penalty='l2', C=0.5, tol=1e-7)"
   ]
  },
  {
   "cell_type": "code",
   "execution_count": 4,
   "id": "63793adf-d762-43f0-9e27-4b5a725e078f",
   "metadata": {},
   "outputs": [
    {
     "name": "stdout",
     "output_type": "stream",
     "text": [
      "['probando', 'el', 'orden', 'del', 'caos', 'probando~orden', 'el~del', 'orden~caos', 'q:~pr', 'q:pro', 'q:rob', 'q:oba', 'q:ban', 'q:and', 'q:ndo', 'q:do~', 'q:o~e', 'q:~el', 'q:el~', 'q:l~o', 'q:~or', 'q:ord', 'q:rde', 'q:den', 'q:en~', 'q:n~d', 'q:~de', 'q:del', 'q:el~', 'q:l~c', 'q:~ca', 'q:cao', 'q:aos', 'q:os.', 'q:s.~']\n"
     ]
    }
   ],
   "source": [
    "\n",
    "tok_lst = [-1, [2,1], 3] # n-grams de 1 palabra / 2 palabras salteandose 1 / q-grams de 3\n",
    "tm = TextModel(token_list=tok_lst).fit(X_train)\n",
    "print(tm.tokenize(\"Probando el orden del caos.\"))"
   ]
  },
  {
   "cell_type": "code",
   "execution_count": 5,
   "id": "375a2ea3-c987-468c-aeb2-8850b9ff95ef",
   "metadata": {},
   "outputs": [],
   "source": [
    "m = lsvc.fit(tm.transform(X_train), y_train)"
   ]
  },
  {
   "cell_type": "code",
   "execution_count": 6,
   "id": "15b0cd18-cc4a-41bd-8b5a-a2e12ca060f1",
   "metadata": {},
   "outputs": [
    {
     "name": "stdout",
     "output_type": "stream",
     "text": [
      " ScoreXUnion:  0.7201581027667984\n"
     ]
    }
   ],
   "source": [
    "print(\" ScoreXUnion: \", m.score(tm.transform(X_test), y_test))"
   ]
  },
  {
   "cell_type": "code",
   "execution_count": 8,
   "id": "8e1cdabe-2830-4753-bc94-5ffc3bd92398",
   "metadata": {},
   "outputs": [],
   "source": [
    "p = m.predict(tm.transform(X_test))"
   ]
  },
  {
   "cell_type": "code",
   "execution_count": 9,
   "id": "b13b217b-5abe-42cf-9a60-17afdc1bca25",
   "metadata": {},
   "outputs": [],
   "source": [
    "f1_score = metrics.f1_score(y_test, p, average=\"macro\")"
   ]
  },
  {
   "cell_type": "code",
   "execution_count": 10,
   "id": "3bded5f5-2873-47e4-909c-297b9f1b4582",
   "metadata": {},
   "outputs": [
    {
     "data": {
      "text/plain": [
       "0.6466413529278086"
      ]
     },
     "execution_count": 10,
     "metadata": {},
     "output_type": "execute_result"
    }
   ],
   "source": [
    "f1_score"
   ]
  },
  {
   "cell_type": "code",
   "execution_count": null,
   "id": "cb116912-cfd9-4891-b546-37125bd7dfd7",
   "metadata": {},
   "outputs": [],
   "source": []
  }
 ],
 "metadata": {
  "kernelspec": {
   "display_name": "Python 3 (ipykernel)",
   "language": "python",
   "name": "python3"
  },
  "language_info": {
   "codemirror_mode": {
    "name": "ipython",
    "version": 3
   },
   "file_extension": ".py",
   "mimetype": "text/x-python",
   "name": "python",
   "nbconvert_exporter": "python",
   "pygments_lexer": "ipython3",
   "version": "3.9.12"
  }
 },
 "nbformat": 4,
 "nbformat_minor": 5
}
