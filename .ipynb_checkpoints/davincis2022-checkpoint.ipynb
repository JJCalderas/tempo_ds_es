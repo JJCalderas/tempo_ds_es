{
 "cells": [
  {
   "cell_type": "markdown",
   "id": "d405cf38-0935-40a0-aaee-2a455caa152f",
   "metadata": {},
   "source": [
    "### DaVincis 2022\n",
    "### Convertir los datasets de las competencias a json y separarlos 75/25 train/test\n",
    "- Se crea el modelo evomsa pre-entrenado davincis2022_Es.evomsa\n",
    "- En Single f1_score_macro  = 0.7491851693164604\n",
    "- En Muliple f1_score_macro = \n",
    "  - haha2018, mexa3t, misoginia\n",
    "- La mejora es apenas 0.003 0.01"
   ]
  },
  {
   "cell_type": "code",
   "execution_count": 1,
   "id": "4567747b-d9e6-4dde-892e-83666d0f14bb",
   "metadata": {},
   "outputs": [],
   "source": [
    "import pandas as pd\n",
    "import numpy as np\n",
    "from sklearn.model_selection import train_test_split"
   ]
  },
  {
   "cell_type": "code",
   "execution_count": 2,
   "id": "b52d4837-108b-41b8-81c1-d8e580ac27f8",
   "metadata": {},
   "outputs": [],
   "source": [
    "# Exist2021\n",
    "\n",
    "df = pd.read_csv(\"../davincis2022_train.csv\", usecols=['text', 'klass']) #,   header=0, nrows=50)# , nrows=30, header=1)\n",
    "#df.rename(columns = {'task1':'klass'}, inplace = True)"
   ]
  },
  {
   "cell_type": "code",
   "execution_count": 3,
   "id": "e8b7943a-8be5-4df5-ae24-fb7434b2d429",
   "metadata": {},
   "outputs": [
    {
     "data": {
      "text/plain": [
       "(3362, 2)"
      ]
     },
     "execution_count": 3,
     "metadata": {},
     "output_type": "execute_result"
    }
   ],
   "source": [
    "df.shape"
   ]
  },
  {
   "cell_type": "code",
   "execution_count": 4,
   "id": "714ee9b8-8896-446f-b6b8-86aa47f45a33",
   "metadata": {},
   "outputs": [
    {
     "data": {
      "text/html": [
       "<div>\n",
       "<style scoped>\n",
       "    .dataframe tbody tr th:only-of-type {\n",
       "        vertical-align: middle;\n",
       "    }\n",
       "\n",
       "    .dataframe tbody tr th {\n",
       "        vertical-align: top;\n",
       "    }\n",
       "\n",
       "    .dataframe thead th {\n",
       "        text-align: right;\n",
       "    }\n",
       "</style>\n",
       "<table border=\"1\" class=\"dataframe\">\n",
       "  <thead>\n",
       "    <tr style=\"text-align: right;\">\n",
       "      <th></th>\n",
       "      <th>text</th>\n",
       "      <th>klass</th>\n",
       "    </tr>\n",
       "  </thead>\n",
       "  <tbody>\n",
       "    <tr>\n",
       "      <th>0</th>\n",
       "      <td>#Ahora | Reportan accidente de tránsito en el ...</td>\n",
       "      <td>1</td>\n",
       "    </tr>\n",
       "    <tr>\n",
       "      <th>1</th>\n",
       "      <td>#PrecauciónVial en #CDMX se registra cierre pa...</td>\n",
       "      <td>0</td>\n",
       "    </tr>\n",
       "    <tr>\n",
       "      <th>2</th>\n",
       "      <td>#traficogt 🚨🚨👉  https://t.co/1Y9A5BmbKU  3. Se...</td>\n",
       "      <td>0</td>\n",
       "    </tr>\n",
       "    <tr>\n",
       "      <th>3</th>\n",
       "      <td>#HoyMismo  #Internacionales | El Gobierno de J...</td>\n",
       "      <td>0</td>\n",
       "    </tr>\n",
       "    <tr>\n",
       "      <th>4</th>\n",
       "      <td>Casos como el accidente en Villa Lorena, en el...</td>\n",
       "      <td>0</td>\n",
       "    </tr>\n",
       "    <tr>\n",
       "      <th>...</th>\n",
       "      <td>...</td>\n",
       "      <td>...</td>\n",
       "    </tr>\n",
       "    <tr>\n",
       "      <th>3357</th>\n",
       "      <td>Bomberos atendieron accidente vehicular, vía h...</td>\n",
       "      <td>1</td>\n",
       "    </tr>\n",
       "    <tr>\n",
       "      <th>3358</th>\n",
       "      <td>El @bellasartesinba y @literaturainba recuerda...</td>\n",
       "      <td>0</td>\n",
       "    </tr>\n",
       "    <tr>\n",
       "      <th>3359</th>\n",
       "      <td>Recientemente lo dejaron libre bajo fianza y a...</td>\n",
       "      <td>1</td>\n",
       "    </tr>\n",
       "    <tr>\n",
       "      <th>3360</th>\n",
       "      <td>Accidente en Calle 127 &amp;gt; Oriente #traficobo...</td>\n",
       "      <td>0</td>\n",
       "    </tr>\n",
       "    <tr>\n",
       "      <th>3361</th>\n",
       "      <td>11 de septiembre #ElCaminoEsLaPaz   1973 - Sal...</td>\n",
       "      <td>0</td>\n",
       "    </tr>\n",
       "  </tbody>\n",
       "</table>\n",
       "<p>3362 rows × 2 columns</p>\n",
       "</div>"
      ],
      "text/plain": [
       "                                                   text  klass\n",
       "0     #Ahora | Reportan accidente de tránsito en el ...      1\n",
       "1     #PrecauciónVial en #CDMX se registra cierre pa...      0\n",
       "2     #traficogt 🚨🚨👉  https://t.co/1Y9A5BmbKU  3. Se...      0\n",
       "3     #HoyMismo  #Internacionales | El Gobierno de J...      0\n",
       "4     Casos como el accidente en Villa Lorena, en el...      0\n",
       "...                                                 ...    ...\n",
       "3357  Bomberos atendieron accidente vehicular, vía h...      1\n",
       "3358  El @bellasartesinba y @literaturainba recuerda...      0\n",
       "3359  Recientemente lo dejaron libre bajo fianza y a...      1\n",
       "3360  Accidente en Calle 127 &gt; Oriente #traficobo...      0\n",
       "3361  11 de septiembre #ElCaminoEsLaPaz   1973 - Sal...      0\n",
       "\n",
       "[3362 rows x 2 columns]"
      ]
     },
     "execution_count": 4,
     "metadata": {},
     "output_type": "execute_result"
    }
   ],
   "source": [
    "df"
   ]
  },
  {
   "cell_type": "code",
   "execution_count": 5,
   "id": "6f82ced9-b9d9-4261-81ef-55961bc36ea3",
   "metadata": {},
   "outputs": [
    {
     "data": {
      "text/plain": [
       "array([0, 1], dtype=int64)"
      ]
     },
     "execution_count": 5,
     "metadata": {},
     "output_type": "execute_result"
    }
   ],
   "source": [
    "np.unique(df['klass'])"
   ]
  },
  {
   "cell_type": "code",
   "execution_count": 6,
   "id": "8c33fba5-46c6-454f-8393-ae9efe0042c3",
   "metadata": {},
   "outputs": [],
   "source": [
    "# df[\"klass\"] = np.where(df[\"klass\"] == \"sexist\", 1, 0)\n",
    "# incidente violento = 0\n",
    "# incidente No violento = 1"
   ]
  },
  {
   "cell_type": "code",
   "execution_count": 7,
   "id": "36aca080-5cf3-49d8-ac91-0d7198007f8b",
   "metadata": {},
   "outputs": [
    {
     "data": {
      "text/html": [
       "<div>\n",
       "<style scoped>\n",
       "    .dataframe tbody tr th:only-of-type {\n",
       "        vertical-align: middle;\n",
       "    }\n",
       "\n",
       "    .dataframe tbody tr th {\n",
       "        vertical-align: top;\n",
       "    }\n",
       "\n",
       "    .dataframe thead th {\n",
       "        text-align: right;\n",
       "    }\n",
       "</style>\n",
       "<table border=\"1\" class=\"dataframe\">\n",
       "  <thead>\n",
       "    <tr style=\"text-align: right;\">\n",
       "      <th></th>\n",
       "      <th>text</th>\n",
       "      <th>klass</th>\n",
       "    </tr>\n",
       "  </thead>\n",
       "  <tbody>\n",
       "    <tr>\n",
       "      <th>0</th>\n",
       "      <td>#Ahora | Reportan accidente de tránsito en el ...</td>\n",
       "      <td>1</td>\n",
       "    </tr>\n",
       "    <tr>\n",
       "      <th>1</th>\n",
       "      <td>#PrecauciónVial en #CDMX se registra cierre pa...</td>\n",
       "      <td>0</td>\n",
       "    </tr>\n",
       "    <tr>\n",
       "      <th>2</th>\n",
       "      <td>#traficogt 🚨🚨👉  https://t.co/1Y9A5BmbKU  3. Se...</td>\n",
       "      <td>0</td>\n",
       "    </tr>\n",
       "    <tr>\n",
       "      <th>3</th>\n",
       "      <td>#HoyMismo  #Internacionales | El Gobierno de J...</td>\n",
       "      <td>0</td>\n",
       "    </tr>\n",
       "    <tr>\n",
       "      <th>4</th>\n",
       "      <td>Casos como el accidente en Villa Lorena, en el...</td>\n",
       "      <td>0</td>\n",
       "    </tr>\n",
       "    <tr>\n",
       "      <th>...</th>\n",
       "      <td>...</td>\n",
       "      <td>...</td>\n",
       "    </tr>\n",
       "    <tr>\n",
       "      <th>3357</th>\n",
       "      <td>Bomberos atendieron accidente vehicular, vía h...</td>\n",
       "      <td>1</td>\n",
       "    </tr>\n",
       "    <tr>\n",
       "      <th>3358</th>\n",
       "      <td>El @bellasartesinba y @literaturainba recuerda...</td>\n",
       "      <td>0</td>\n",
       "    </tr>\n",
       "    <tr>\n",
       "      <th>3359</th>\n",
       "      <td>Recientemente lo dejaron libre bajo fianza y a...</td>\n",
       "      <td>1</td>\n",
       "    </tr>\n",
       "    <tr>\n",
       "      <th>3360</th>\n",
       "      <td>Accidente en Calle 127 &amp;gt; Oriente #traficobo...</td>\n",
       "      <td>0</td>\n",
       "    </tr>\n",
       "    <tr>\n",
       "      <th>3361</th>\n",
       "      <td>11 de septiembre #ElCaminoEsLaPaz   1973 - Sal...</td>\n",
       "      <td>0</td>\n",
       "    </tr>\n",
       "  </tbody>\n",
       "</table>\n",
       "<p>3362 rows × 2 columns</p>\n",
       "</div>"
      ],
      "text/plain": [
       "                                                   text  klass\n",
       "0     #Ahora | Reportan accidente de tránsito en el ...      1\n",
       "1     #PrecauciónVial en #CDMX se registra cierre pa...      0\n",
       "2     #traficogt 🚨🚨👉  https://t.co/1Y9A5BmbKU  3. Se...      0\n",
       "3     #HoyMismo  #Internacionales | El Gobierno de J...      0\n",
       "4     Casos como el accidente en Villa Lorena, en el...      0\n",
       "...                                                 ...    ...\n",
       "3357  Bomberos atendieron accidente vehicular, vía h...      1\n",
       "3358  El @bellasartesinba y @literaturainba recuerda...      0\n",
       "3359  Recientemente lo dejaron libre bajo fianza y a...      1\n",
       "3360  Accidente en Calle 127 &gt; Oriente #traficobo...      0\n",
       "3361  11 de septiembre #ElCaminoEsLaPaz   1973 - Sal...      0\n",
       "\n",
       "[3362 rows x 2 columns]"
      ]
     },
     "execution_count": 7,
     "metadata": {},
     "output_type": "execute_result"
    }
   ],
   "source": [
    "df"
   ]
  },
  {
   "cell_type": "code",
   "execution_count": 8,
   "id": "1865aa5e-6cfe-4b33-b518-e593eb071092",
   "metadata": {},
   "outputs": [
    {
     "data": {
      "text/plain": [
       "((2521,), (841,), (2521,), (841,))"
      ]
     },
     "execution_count": 8,
     "metadata": {},
     "output_type": "execute_result"
    }
   ],
   "source": [
    "X_train, X_test, y_train, y_test = train_test_split(df['text'], df['klass'], train_size=0.75)\n",
    "X_train.shape, X_test.shape, y_train.shape, y_test.shape"
   ]
  },
  {
   "cell_type": "code",
   "execution_count": 9,
   "id": "5f2be74b-0e12-41d4-86fd-9b9a7b661851",
   "metadata": {},
   "outputs": [
    {
     "data": {
      "text/plain": [
       "pandas.core.series.Series"
      ]
     },
     "execution_count": 9,
     "metadata": {},
     "output_type": "execute_result"
    }
   ],
   "source": [
    "type(X_train)"
   ]
  },
  {
   "cell_type": "code",
   "execution_count": 10,
   "id": "6043e2e3-7e9b-43ae-9f74-27277ea20e11",
   "metadata": {},
   "outputs": [
    {
     "name": "stdout",
     "output_type": "stream",
     "text": [
      "(2521, 2)\n"
     ]
    },
    {
     "data": {
      "text/html": [
       "<div>\n",
       "<style scoped>\n",
       "    .dataframe tbody tr th:only-of-type {\n",
       "        vertical-align: middle;\n",
       "    }\n",
       "\n",
       "    .dataframe tbody tr th {\n",
       "        vertical-align: top;\n",
       "    }\n",
       "\n",
       "    .dataframe thead th {\n",
       "        text-align: right;\n",
       "    }\n",
       "</style>\n",
       "<table border=\"1\" class=\"dataframe\">\n",
       "  <thead>\n",
       "    <tr style=\"text-align: right;\">\n",
       "      <th></th>\n",
       "      <th>text</th>\n",
       "      <th>klass</th>\n",
       "    </tr>\n",
       "  </thead>\n",
       "  <tbody>\n",
       "    <tr>\n",
       "      <th>560</th>\n",
       "      <td>Durante agosto pasado en #Querétaro no se repo...</td>\n",
       "      <td>1</td>\n",
       "    </tr>\n",
       "    <tr>\n",
       "      <th>819</th>\n",
       "      <td>#ItalianGP: Max Verstappen penalizado por tres...</td>\n",
       "      <td>1</td>\n",
       "    </tr>\n",
       "    <tr>\n",
       "      <th>2460</th>\n",
       "      <td>No respeta derecho de vía y provoca fuerte acc...</td>\n",
       "      <td>0</td>\n",
       "    </tr>\n",
       "    <tr>\n",
       "      <th>1553</th>\n",
       "      <td>NOTICIA | Hombre muere tras accidente vehicula...</td>\n",
       "      <td>1</td>\n",
       "    </tr>\n",
       "    <tr>\n",
       "      <th>1614</th>\n",
       "      <td>#FakeNews ➡️El expresidente Enrique Peña Nieto...</td>\n",
       "      <td>0</td>\n",
       "    </tr>\n",
       "    <tr>\n",
       "      <th>...</th>\n",
       "      <td>...</td>\n",
       "      <td>...</td>\n",
       "    </tr>\n",
       "    <tr>\n",
       "      <th>426</th>\n",
       "      <td>Personas inescrupulosas están tumbado postes d...</td>\n",
       "      <td>0</td>\n",
       "    </tr>\n",
       "    <tr>\n",
       "      <th>1867</th>\n",
       "      <td>Accidente en Carrera 9ª &amp;gt; Sur #traficobogot...</td>\n",
       "      <td>1</td>\n",
       "    </tr>\n",
       "    <tr>\n",
       "      <th>570</th>\n",
       "      <td>Hoy Conmemoramos el 174 Aniversario de los 'Ni...</td>\n",
       "      <td>0</td>\n",
       "    </tr>\n",
       "    <tr>\n",
       "      <th>841</th>\n",
       "      <td>En la serie «Nuestras comunidades étnicas habl...</td>\n",
       "      <td>0</td>\n",
       "    </tr>\n",
       "    <tr>\n",
       "      <th>723</th>\n",
       "      <td>@PSK_vialidad Ese es el accidente Compañero.  ...</td>\n",
       "      <td>1</td>\n",
       "    </tr>\n",
       "  </tbody>\n",
       "</table>\n",
       "<p>2521 rows × 2 columns</p>\n",
       "</div>"
      ],
      "text/plain": [
       "                                                   text  klass\n",
       "560   Durante agosto pasado en #Querétaro no se repo...      1\n",
       "819   #ItalianGP: Max Verstappen penalizado por tres...      1\n",
       "2460  No respeta derecho de vía y provoca fuerte acc...      0\n",
       "1553  NOTICIA | Hombre muere tras accidente vehicula...      1\n",
       "1614  #FakeNews ➡️El expresidente Enrique Peña Nieto...      0\n",
       "...                                                 ...    ...\n",
       "426   Personas inescrupulosas están tumbado postes d...      0\n",
       "1867  Accidente en Carrera 9ª &gt; Sur #traficobogot...      1\n",
       "570   Hoy Conmemoramos el 174 Aniversario de los 'Ni...      0\n",
       "841   En la serie «Nuestras comunidades étnicas habl...      0\n",
       "723   @PSK_vialidad Ese es el accidente Compañero.  ...      1\n",
       "\n",
       "[2521 rows x 2 columns]"
      ]
     },
     "execution_count": 10,
     "metadata": {},
     "output_type": "execute_result"
    }
   ],
   "source": [
    "df_train = pd.concat([X_train, y_train], axis=1)\n",
    "print(df_train.shape)\n",
    "df_train"
   ]
  },
  {
   "cell_type": "code",
   "execution_count": 11,
   "id": "5eecb9da-36ce-40b7-8822-fbb6935befe5",
   "metadata": {},
   "outputs": [
    {
     "name": "stdout",
     "output_type": "stream",
     "text": [
      "(841, 2)\n"
     ]
    },
    {
     "data": {
      "text/html": [
       "<div>\n",
       "<style scoped>\n",
       "    .dataframe tbody tr th:only-of-type {\n",
       "        vertical-align: middle;\n",
       "    }\n",
       "\n",
       "    .dataframe tbody tr th {\n",
       "        vertical-align: top;\n",
       "    }\n",
       "\n",
       "    .dataframe thead th {\n",
       "        text-align: right;\n",
       "    }\n",
       "</style>\n",
       "<table border=\"1\" class=\"dataframe\">\n",
       "  <thead>\n",
       "    <tr style=\"text-align: right;\">\n",
       "      <th></th>\n",
       "      <th>text</th>\n",
       "      <th>klass</th>\n",
       "    </tr>\n",
       "  </thead>\n",
       "  <tbody>\n",
       "    <tr>\n",
       "      <th>2383</th>\n",
       "      <td>Hoy junto con @PatySandovalM inauguramos la Un...</td>\n",
       "      <td>0</td>\n",
       "    </tr>\n",
       "    <tr>\n",
       "      <th>2434</th>\n",
       "      <td>🚨Justo Ahora🚨: Nuestros #Paramédicos brindan a...</td>\n",
       "      <td>1</td>\n",
       "    </tr>\n",
       "    <tr>\n",
       "      <th>1645</th>\n",
       "      <td>🚨#Atención | Se presentó accidente de tránsito...</td>\n",
       "      <td>1</td>\n",
       "    </tr>\n",
       "    <tr>\n",
       "      <th>1872</th>\n",
       "      <td>Muere el tour manager de los Rolling Stones en...</td>\n",
       "      <td>0</td>\n",
       "    </tr>\n",
       "    <tr>\n",
       "      <th>508</th>\n",
       "      <td>🚨#AestaHora | @bomberostunja atiende accidente...</td>\n",
       "      <td>0</td>\n",
       "    </tr>\n",
       "    <tr>\n",
       "      <th>...</th>\n",
       "      <td>...</td>\n",
       "      <td>...</td>\n",
       "    </tr>\n",
       "    <tr>\n",
       "      <th>1424</th>\n",
       "      <td>#ATENCION  #ULTIMAHORA El Ministerio Público c...</td>\n",
       "      <td>1</td>\n",
       "    </tr>\n",
       "    <tr>\n",
       "      <th>2758</th>\n",
       "      <td>Ofrecen $10 millones para esclarecer el asesin...</td>\n",
       "      <td>0</td>\n",
       "    </tr>\n",
       "    <tr>\n",
       "      <th>2399</th>\n",
       "      <td>POLICÍAS VIALES DE AGUASCALIENTES ATENDIERON E...</td>\n",
       "      <td>1</td>\n",
       "    </tr>\n",
       "    <tr>\n",
       "      <th>590</th>\n",
       "      <td>#NoticiasDeLaHora La Policía de Tránsito en Sa...</td>\n",
       "      <td>0</td>\n",
       "    </tr>\n",
       "    <tr>\n",
       "      <th>2800</th>\n",
       "      <td>El presidente Jorge Fonseca @PresidenciaCV y e...</td>\n",
       "      <td>0</td>\n",
       "    </tr>\n",
       "  </tbody>\n",
       "</table>\n",
       "<p>841 rows × 2 columns</p>\n",
       "</div>"
      ],
      "text/plain": [
       "                                                   text  klass\n",
       "2383  Hoy junto con @PatySandovalM inauguramos la Un...      0\n",
       "2434  🚨Justo Ahora🚨: Nuestros #Paramédicos brindan a...      1\n",
       "1645  🚨#Atención | Se presentó accidente de tránsito...      1\n",
       "1872  Muere el tour manager de los Rolling Stones en...      0\n",
       "508   🚨#AestaHora | @bomberostunja atiende accidente...      0\n",
       "...                                                 ...    ...\n",
       "1424  #ATENCION  #ULTIMAHORA El Ministerio Público c...      1\n",
       "2758  Ofrecen $10 millones para esclarecer el asesin...      0\n",
       "2399  POLICÍAS VIALES DE AGUASCALIENTES ATENDIERON E...      1\n",
       "590   #NoticiasDeLaHora La Policía de Tránsito en Sa...      0\n",
       "2800  El presidente Jorge Fonseca @PresidenciaCV y e...      0\n",
       "\n",
       "[841 rows x 2 columns]"
      ]
     },
     "execution_count": 11,
     "metadata": {},
     "output_type": "execute_result"
    }
   ],
   "source": [
    "df_test = pd.concat([X_test, y_test], axis=1)\n",
    "print(df_test.shape)\n",
    "df_test"
   ]
  },
  {
   "cell_type": "code",
   "execution_count": 12,
   "id": "852a1eee-28c4-47eb-88c9-b805ca8e7764",
   "metadata": {},
   "outputs": [],
   "source": [
    "with open('..\\davincis2022_Es_train.json', 'w') as f:\n",
    "    f.write(df_train.to_json(orient='records', lines=True))\n",
    "    \n",
    "with open('..\\davincis2022_Es_test.json', 'w') as f:\n",
    "    f.write(df_test.to_json(orient='records', lines=True))"
   ]
  },
  {
   "cell_type": "code",
   "execution_count": 13,
   "id": "469e815a-2b81-4f55-97bc-38f6862c752e",
   "metadata": {},
   "outputs": [],
   "source": [
    "from EvoMSA.base import EvoMSA\n",
    "from microtc.utils import save_model\n",
    "from sklearn import metrics\n",
    "from microtc.utils import load_model\n",
    "from microtc.utils import save_model"
   ]
  },
  {
   "cell_type": "code",
   "execution_count": 14,
   "id": "2ed4c8a6-affe-4ffd-aa74-adcf67b1012c",
   "metadata": {},
   "outputs": [],
   "source": [
    "evo = EvoMSA(TR=True, B4MSA=False, lang='es', Emo=True, Aggress=True, models=None)\n",
    "\n",
    "# Pq a .squeeze() ? "
   ]
  },
  {
   "cell_type": "code",
   "execution_count": null,
   "id": "2b60f822-bc1c-4e54-b293-2c13638d7efd",
   "metadata": {},
   "outputs": [
    {
     "name": "stderr",
     "output_type": "stream",
     "text": [
      "100%|██████████| 3/3 [00:20<00:00,  6.76s/it]\n",
      "100%|██████████| 5/5 [00:01<00:00,  3.74it/s]\n",
      "100%|██████████| 5/5 [00:00<00:00, 34.60it/s]\n",
      "100%|██████████| 5/5 [00:00<00:00, 238.74it/s]\n",
      " 30%|███       | 9/30 [01:31<02:47,  7.97s/it]"
     ]
    }
   ],
   "source": [
    "evo.fit(X_train.squeeze(), y_train.squeeze())\n",
    "pred = evo.predict(X_test.squeeze())\n",
    "print(metrics.f1_score(y_test, pred, average=\"macro\"))"
   ]
  },
  {
   "cell_type": "code",
   "execution_count": 16,
   "id": "9154310d-1e87-4eb4-9330-5d40b1b36d71",
   "metadata": {},
   "outputs": [],
   "source": [
    "# crear modelo pre-entrenado en Sigle par evitar efecto cascada\n",
    "save_model(evo, '..\\\\..\\\\single_models\\\\davincis22_single_Es.evomsa') "
   ]
  },
  {
   "cell_type": "markdown",
   "id": "7185d309-4945-49aa-b64c-bf8c67b0a831",
   "metadata": {},
   "source": [
    "### Multiple\n",
    "----------------------------------"
   ]
  },
  {
   "cell_type": "code",
   "execution_count": null,
   "id": "c1ba741f-4a3d-4a92-9256-58453f17c259",
   "metadata": {},
   "outputs": [],
   "source": [
    "stacked_method = \"sklearn.svm.LinearSVC\"\n",
    "# usar = \"sklearn.naive_bayes.BernoulliNB\"\n",
    "# usar = \"sklearn.naive_bayes.MultinomialNB\"\n",
    "\n",
    "reverse_model = [load_model('..\\\\..\\\\models\\\\text_model_inv_simple.evomsa'), stacked_method]\n",
    "haha_model = [load_model('..\\\\..\\\\models\\\\haha2018_Es.evomsa'), stacked_method]\n",
    "mexa3t_model = [load_model('..\\\\..\\\\models\\\\mexa3t2018_aggress_Es.evomsa'), stacked_method]\n",
    "misoginia_model = [load_model('..\\\\..\\\\models\\\\misoginia_Es.evomsa'), stacked_method]\n",
    "\n",
    "mm = [haha_model, mexa3t_model, misoginia_model]\n",
    "\n",
    "evo = EvoMSA(TR=True, B4MSA=False, lang='es', Emo=True, Aggress=True, stacked_method=stacked_method, models= mm)"
   ]
  },
  {
   "cell_type": "code",
   "execution_count": null,
   "id": "27c0c105-0f55-40d8-be92-8fa0863434e2",
   "metadata": {},
   "outputs": [],
   "source": [
    "evo.fit(X_train.squeeze(), y_train.squeeze())\n",
    "pred = evo.predict(X_test.squeeze())\n",
    "print(metrics.f1_score(y_test, pred, average=\"macro\"))"
   ]
  },
  {
   "cell_type": "code",
   "execution_count": null,
   "id": "7d9c8d70-d4f1-4c64-bcac-3151880a5182",
   "metadata": {},
   "outputs": [],
   "source": [
    "# crear modelo pre-entrenado\n",
    "save_model(evo, '..\\\\..\\\\models\\\\exist2021_Es.evomsa') "
   ]
  },
  {
   "cell_type": "code",
   "execution_count": null,
   "id": "f8cd1507-2e79-455c-9658-74caa16b42d5",
   "metadata": {},
   "outputs": [],
   "source": [
    "# probarlo\n",
    "_ = load_model('..\\\\..\\\\models\\\\exist2021_Es.evomsa') \n",
    "pred = _.predict(X_test.squeeze())\n",
    "print(metrics.f1_score(y_test, pred, average=\"macro\"))"
   ]
  },
  {
   "cell_type": "code",
   "execution_count": null,
   "id": "8a5e35db-295b-47ff-8d1b-d8d0a0e67892",
   "metadata": {},
   "outputs": [],
   "source": []
  }
 ],
 "metadata": {
  "kernelspec": {
   "display_name": "Python 3 (ipykernel)",
   "language": "python",
   "name": "python3"
  },
  "language_info": {
   "codemirror_mode": {
    "name": "ipython",
    "version": 3
   },
   "file_extension": ".py",
   "mimetype": "text/x-python",
   "name": "python",
   "nbconvert_exporter": "python",
   "pygments_lexer": "ipython3",
   "version": "3.8.13"
  }
 },
 "nbformat": 4,
 "nbformat_minor": 5
}
