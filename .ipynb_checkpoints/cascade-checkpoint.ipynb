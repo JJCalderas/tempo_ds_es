{
 "cells": [
  {
   "cell_type": "markdown",
   "id": "7398ccf3-91b9-433f-bf59-dd5b773b5fea",
   "metadata": {},
   "source": [
    "### A, AB, ABC, ABCD, ...."
   ]
  },
  {
   "cell_type": "code",
   "execution_count": 6,
   "id": "25127adb-d20f-414c-b6c0-9259cf33b15b",
   "metadata": {},
   "outputs": [],
   "source": [
    "import pandas as pd\n",
    "import numpy as np\n",
    "from glob import glob\n",
    "from EvoMSA.base import EvoMSA\n",
    "\n",
    "from sklearn.model_selection import train_test_split"
   ]
  },
  {
   "cell_type": "code",
   "execution_count": 5,
   "id": "43c7163d-86ee-4224-a313-62186f8fe9c4",
   "metadata": {},
   "outputs": [
    {
     "name": "stdout",
     "output_type": "stream",
     "text": [
      "davincis2022\n",
      "exist2021\n",
      "haha2021\n",
      "meoffendes2021\n",
      "mexa3t2018_aggress\n",
      "misoginia\n",
      "semeval2018_anger\n",
      "semeval2018_fear\n",
      "semeval2018_joy\n",
      "semeval2018_sadness\n",
      "semeval2018_valence\n"
     ]
    }
   ],
   "source": [
    "fnames = glob(\"../*_Es_train.json\")\n",
    "fnames.sort()\n",
    "\n",
    "for fn in fnames:\n",
    "    \n",
    "    train_df = pd.read_json(fn, lines=True)\n",
    "    test_df = pd.read_json(fn.replace(\"_train\", \"_test\"), lines=True)\n",
    "\n",
    "    # recortarlos\n",
    "    train_df = train_df.loc[0:49, ['text', 'klass']]\n",
    "    test_df = test_df.loc[0:49, ['text', 'klass']]\n",
    "\n",
    "    X_train = train_df[['text']]\n",
    "    y_train = train_df[['klass']]\n",
    "    \n",
    "    X_test = test_df[['text']]\n",
    "    y_test = test_df[['klass']]\n",
    "    \n",
    "    ds_n = fn.replace(\"..\\\\\",'').replace('_Es_train.json','')\n",
    "    \n",
    "    print(ds_n)\n",
    "    \n",
    "    evo = EvoMSA(TR=True, B4MSA=False, lang='es', Emo=True, Aggress=True, models=None)\n",
    "    evo.fit(X_train.squeeze(), y_train.squeeze())\n",
    "    pred = evo.predict(X_test.squeeze())\n",
    "    "
   ]
  },
  {
   "cell_type": "code",
   "execution_count": null,
   "id": "4f98ff61-8347-4c13-8c28-370843ce7593",
   "metadata": {},
   "outputs": [],
   "source": []
  }
 ],
 "metadata": {
  "kernelspec": {
   "display_name": "Python 3 (ipykernel)",
   "language": "python",
   "name": "python3"
  },
  "language_info": {
   "codemirror_mode": {
    "name": "ipython",
    "version": 3
   },
   "file_extension": ".py",
   "mimetype": "text/x-python",
   "name": "python",
   "nbconvert_exporter": "python",
   "pygments_lexer": "ipython3",
   "version": "3.8.13"
  }
 },
 "nbformat": 4,
 "nbformat_minor": 5
}
