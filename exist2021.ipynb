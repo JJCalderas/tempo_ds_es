{
 "cells": [
  {
   "cell_type": "markdown",
   "id": "d405cf38-0935-40a0-aaee-2a455caa152f",
   "metadata": {},
   "source": [
    "### Exist 2021\n",
    "### Convertir los datasets de las competencias a json y separarlos 75/25 train/test\n",
    "- Se crea el modelo evomsa pre-entrenado exist2021_Es.evomsa\n",
    "- En Single f1_score_macro  = 0.7491851693164604\n",
    "- En Muliple f1_score_macro = \n",
    "  - haha2018, mexa3t, misoginia\n",
    "- La mejora es apenas 0.003 0.01"
   ]
  },
  {
   "cell_type": "code",
   "execution_count": 1,
   "id": "4567747b-d9e6-4dde-892e-83666d0f14bb",
   "metadata": {},
   "outputs": [],
   "source": [
    "import pandas as pd\n",
    "import numpy as np\n",
    "from sklearn.model_selection import train_test_split"
   ]
  },
  {
   "cell_type": "code",
   "execution_count": 2,
   "id": "b52d4837-108b-41b8-81c1-d8e580ac27f8",
   "metadata": {},
   "outputs": [],
   "source": [
    "# Exist2021\n",
    "\n",
    "df = pd.read_csv(\"../exist2021_es.csv\", usecols=['text', 'task1']) #,   header=0, nrows=50)# , nrows=30, header=1)\n",
    "df.rename(columns = {'task1':'klass'}, inplace = True)"
   ]
  },
  {
   "cell_type": "code",
   "execution_count": 3,
   "id": "e8b7943a-8be5-4df5-ae24-fb7434b2d429",
   "metadata": {},
   "outputs": [
    {
     "data": {
      "text/plain": [
       "(3541, 2)"
      ]
     },
     "execution_count": 3,
     "metadata": {},
     "output_type": "execute_result"
    }
   ],
   "source": [
    "df.shape"
   ]
  },
  {
   "cell_type": "code",
   "execution_count": 4,
   "id": "714ee9b8-8896-446f-b6b8-86aa47f45a33",
   "metadata": {},
   "outputs": [
    {
     "data": {
      "text/html": [
       "<div>\n",
       "<style scoped>\n",
       "    .dataframe tbody tr th:only-of-type {\n",
       "        vertical-align: middle;\n",
       "    }\n",
       "\n",
       "    .dataframe tbody tr th {\n",
       "        vertical-align: top;\n",
       "    }\n",
       "\n",
       "    .dataframe thead th {\n",
       "        text-align: right;\n",
       "    }\n",
       "</style>\n",
       "<table border=\"1\" class=\"dataframe\">\n",
       "  <thead>\n",
       "    <tr style=\"text-align: right;\">\n",
       "      <th></th>\n",
       "      <th>text</th>\n",
       "      <th>klass</th>\n",
       "    </tr>\n",
       "  </thead>\n",
       "  <tbody>\n",
       "    <tr>\n",
       "      <th>0</th>\n",
       "      <td>Nadie te va a tratar tan bien como un hombre q...</td>\n",
       "      <td>sexist</td>\n",
       "    </tr>\n",
       "    <tr>\n",
       "      <th>1</th>\n",
       "      <td>@lindagisela74 Que rica putita obediente, afor...</td>\n",
       "      <td>sexist</td>\n",
       "    </tr>\n",
       "    <tr>\n",
       "      <th>2</th>\n",
       "      <td>@BicireporteraDF Yo lo hice a los 18 años por ...</td>\n",
       "      <td>non-sexist</td>\n",
       "    </tr>\n",
       "    <tr>\n",
       "      <th>3</th>\n",
       "      <td>las cosas q sueño son indicios de que yo enrea...</td>\n",
       "      <td>non-sexist</td>\n",
       "    </tr>\n",
       "    <tr>\n",
       "      <th>4</th>\n",
       "      <td>Pero a la niña le gustó desde que lo vió, así ...</td>\n",
       "      <td>non-sexist</td>\n",
       "    </tr>\n",
       "    <tr>\n",
       "      <th>...</th>\n",
       "      <td>...</td>\n",
       "      <td>...</td>\n",
       "    </tr>\n",
       "    <tr>\n",
       "      <th>3536</th>\n",
       "      <td>Estamos igual sin pareja, pero puedes besar a ...</td>\n",
       "      <td>non-sexist</td>\n",
       "    </tr>\n",
       "    <tr>\n",
       "      <th>3537</th>\n",
       "      <td>2020 hijo de re mil putas</td>\n",
       "      <td>non-sexist</td>\n",
       "    </tr>\n",
       "    <tr>\n",
       "      <th>3538</th>\n",
       "      <td>SEGURAMENTE ESTA CHICA NO COBRA EL DINERO QUE ...</td>\n",
       "      <td>non-sexist</td>\n",
       "    </tr>\n",
       "    <tr>\n",
       "      <th>3539</th>\n",
       "      <td>@safetyaitana mi madre dice q va fea y i agree</td>\n",
       "      <td>sexist</td>\n",
       "    </tr>\n",
       "    <tr>\n",
       "      <th>3540</th>\n",
       "      <td>¿En vuestras casas también tenéis esa tradició...</td>\n",
       "      <td>sexist</td>\n",
       "    </tr>\n",
       "  </tbody>\n",
       "</table>\n",
       "<p>3541 rows × 2 columns</p>\n",
       "</div>"
      ],
      "text/plain": [
       "                                                   text       klass\n",
       "0     Nadie te va a tratar tan bien como un hombre q...      sexist\n",
       "1     @lindagisela74 Que rica putita obediente, afor...      sexist\n",
       "2     @BicireporteraDF Yo lo hice a los 18 años por ...  non-sexist\n",
       "3     las cosas q sueño son indicios de que yo enrea...  non-sexist\n",
       "4     Pero a la niña le gustó desde que lo vió, así ...  non-sexist\n",
       "...                                                 ...         ...\n",
       "3536  Estamos igual sin pareja, pero puedes besar a ...  non-sexist\n",
       "3537                          2020 hijo de re mil putas  non-sexist\n",
       "3538  SEGURAMENTE ESTA CHICA NO COBRA EL DINERO QUE ...  non-sexist\n",
       "3539     @safetyaitana mi madre dice q va fea y i agree      sexist\n",
       "3540  ¿En vuestras casas también tenéis esa tradició...      sexist\n",
       "\n",
       "[3541 rows x 2 columns]"
      ]
     },
     "execution_count": 4,
     "metadata": {},
     "output_type": "execute_result"
    }
   ],
   "source": [
    "df"
   ]
  },
  {
   "cell_type": "code",
   "execution_count": 5,
   "id": "6f82ced9-b9d9-4261-81ef-55961bc36ea3",
   "metadata": {},
   "outputs": [
    {
     "data": {
      "text/plain": [
       "array(['non-sexist', 'sexist'], dtype=object)"
      ]
     },
     "execution_count": 5,
     "metadata": {},
     "output_type": "execute_result"
    }
   ],
   "source": [
    "np.unique(df['klass'])"
   ]
  },
  {
   "cell_type": "code",
   "execution_count": 6,
   "id": "8c33fba5-46c6-454f-8393-ae9efe0042c3",
   "metadata": {},
   "outputs": [],
   "source": [
    "df[\"klass\"] = np.where(df[\"klass\"] == \"sexist\", 1, 0)\n",
    "# sexist = 1\n",
    "# No sexist = "
   ]
  },
  {
   "cell_type": "code",
   "execution_count": 7,
   "id": "36aca080-5cf3-49d8-ac91-0d7198007f8b",
   "metadata": {},
   "outputs": [
    {
     "data": {
      "text/html": [
       "<div>\n",
       "<style scoped>\n",
       "    .dataframe tbody tr th:only-of-type {\n",
       "        vertical-align: middle;\n",
       "    }\n",
       "\n",
       "    .dataframe tbody tr th {\n",
       "        vertical-align: top;\n",
       "    }\n",
       "\n",
       "    .dataframe thead th {\n",
       "        text-align: right;\n",
       "    }\n",
       "</style>\n",
       "<table border=\"1\" class=\"dataframe\">\n",
       "  <thead>\n",
       "    <tr style=\"text-align: right;\">\n",
       "      <th></th>\n",
       "      <th>text</th>\n",
       "      <th>klass</th>\n",
       "    </tr>\n",
       "  </thead>\n",
       "  <tbody>\n",
       "    <tr>\n",
       "      <th>0</th>\n",
       "      <td>Nadie te va a tratar tan bien como un hombre q...</td>\n",
       "      <td>1</td>\n",
       "    </tr>\n",
       "    <tr>\n",
       "      <th>1</th>\n",
       "      <td>@lindagisela74 Que rica putita obediente, afor...</td>\n",
       "      <td>1</td>\n",
       "    </tr>\n",
       "    <tr>\n",
       "      <th>2</th>\n",
       "      <td>@BicireporteraDF Yo lo hice a los 18 años por ...</td>\n",
       "      <td>0</td>\n",
       "    </tr>\n",
       "    <tr>\n",
       "      <th>3</th>\n",
       "      <td>las cosas q sueño son indicios de que yo enrea...</td>\n",
       "      <td>0</td>\n",
       "    </tr>\n",
       "    <tr>\n",
       "      <th>4</th>\n",
       "      <td>Pero a la niña le gustó desde que lo vió, así ...</td>\n",
       "      <td>0</td>\n",
       "    </tr>\n",
       "    <tr>\n",
       "      <th>...</th>\n",
       "      <td>...</td>\n",
       "      <td>...</td>\n",
       "    </tr>\n",
       "    <tr>\n",
       "      <th>3536</th>\n",
       "      <td>Estamos igual sin pareja, pero puedes besar a ...</td>\n",
       "      <td>0</td>\n",
       "    </tr>\n",
       "    <tr>\n",
       "      <th>3537</th>\n",
       "      <td>2020 hijo de re mil putas</td>\n",
       "      <td>0</td>\n",
       "    </tr>\n",
       "    <tr>\n",
       "      <th>3538</th>\n",
       "      <td>SEGURAMENTE ESTA CHICA NO COBRA EL DINERO QUE ...</td>\n",
       "      <td>0</td>\n",
       "    </tr>\n",
       "    <tr>\n",
       "      <th>3539</th>\n",
       "      <td>@safetyaitana mi madre dice q va fea y i agree</td>\n",
       "      <td>1</td>\n",
       "    </tr>\n",
       "    <tr>\n",
       "      <th>3540</th>\n",
       "      <td>¿En vuestras casas también tenéis esa tradició...</td>\n",
       "      <td>1</td>\n",
       "    </tr>\n",
       "  </tbody>\n",
       "</table>\n",
       "<p>3541 rows × 2 columns</p>\n",
       "</div>"
      ],
      "text/plain": [
       "                                                   text  klass\n",
       "0     Nadie te va a tratar tan bien como un hombre q...      1\n",
       "1     @lindagisela74 Que rica putita obediente, afor...      1\n",
       "2     @BicireporteraDF Yo lo hice a los 18 años por ...      0\n",
       "3     las cosas q sueño son indicios de que yo enrea...      0\n",
       "4     Pero a la niña le gustó desde que lo vió, así ...      0\n",
       "...                                                 ...    ...\n",
       "3536  Estamos igual sin pareja, pero puedes besar a ...      0\n",
       "3537                          2020 hijo de re mil putas      0\n",
       "3538  SEGURAMENTE ESTA CHICA NO COBRA EL DINERO QUE ...      0\n",
       "3539     @safetyaitana mi madre dice q va fea y i agree      1\n",
       "3540  ¿En vuestras casas también tenéis esa tradició...      1\n",
       "\n",
       "[3541 rows x 2 columns]"
      ]
     },
     "execution_count": 7,
     "metadata": {},
     "output_type": "execute_result"
    }
   ],
   "source": [
    "df"
   ]
  },
  {
   "cell_type": "code",
   "execution_count": 8,
   "id": "1865aa5e-6cfe-4b33-b518-e593eb071092",
   "metadata": {},
   "outputs": [
    {
     "data": {
      "text/plain": [
       "((2655,), (886,), (2655,), (886,))"
      ]
     },
     "execution_count": 8,
     "metadata": {},
     "output_type": "execute_result"
    }
   ],
   "source": [
    "X_train, X_test, y_train, y_test = train_test_split(df['text'], df['klass'], train_size=0.75)\n",
    "X_train.shape, X_test.shape, y_train.shape, y_test.shape"
   ]
  },
  {
   "cell_type": "code",
   "execution_count": 9,
   "id": "5f2be74b-0e12-41d4-86fd-9b9a7b661851",
   "metadata": {},
   "outputs": [
    {
     "data": {
      "text/plain": [
       "pandas.core.series.Series"
      ]
     },
     "execution_count": 9,
     "metadata": {},
     "output_type": "execute_result"
    }
   ],
   "source": [
    "type(X_train)"
   ]
  },
  {
   "cell_type": "code",
   "execution_count": 10,
   "id": "6043e2e3-7e9b-43ae-9f74-27277ea20e11",
   "metadata": {},
   "outputs": [
    {
     "name": "stdout",
     "output_type": "stream",
     "text": [
      "(2655, 2)\n"
     ]
    },
    {
     "data": {
      "text/html": [
       "<div>\n",
       "<style scoped>\n",
       "    .dataframe tbody tr th:only-of-type {\n",
       "        vertical-align: middle;\n",
       "    }\n",
       "\n",
       "    .dataframe tbody tr th {\n",
       "        vertical-align: top;\n",
       "    }\n",
       "\n",
       "    .dataframe thead th {\n",
       "        text-align: right;\n",
       "    }\n",
       "</style>\n",
       "<table border=\"1\" class=\"dataframe\">\n",
       "  <thead>\n",
       "    <tr style=\"text-align: right;\">\n",
       "      <th></th>\n",
       "      <th>text</th>\n",
       "      <th>klass</th>\n",
       "    </tr>\n",
       "  </thead>\n",
       "  <tbody>\n",
       "    <tr>\n",
       "      <th>2674</th>\n",
       "      <td>@PlaysOfTheWeek Jugada futbolera si no va agua...</td>\n",
       "      <td>1</td>\n",
       "    </tr>\n",
       "    <tr>\n",
       "      <th>1656</th>\n",
       "      <td>@SrtaTumba Y que eres más de sodomizar al LoL.</td>\n",
       "      <td>0</td>\n",
       "    </tr>\n",
       "    <tr>\n",
       "      <th>2024</th>\n",
       "      <td>@ElEndika @MaxLovesDragas @silnersessian @Lady...</td>\n",
       "      <td>1</td>\n",
       "    </tr>\n",
       "    <tr>\n",
       "      <th>3053</th>\n",
       "      <td>@AteoAnalitico @pambish Y lo mas complicado de...</td>\n",
       "      <td>1</td>\n",
       "    </tr>\n",
       "    <tr>\n",
       "      <th>2409</th>\n",
       "      <td>@ElSrDerecha Sr. Fascista, ¿Igualdad real entr...</td>\n",
       "      <td>1</td>\n",
       "    </tr>\n",
       "    <tr>\n",
       "      <th>...</th>\n",
       "      <td>...</td>\n",
       "      <td>...</td>\n",
       "    </tr>\n",
       "    <tr>\n",
       "      <th>831</th>\n",
       "      <td>igual prefiero q vayan con james a q con el gr...</td>\n",
       "      <td>0</td>\n",
       "    </tr>\n",
       "    <tr>\n",
       "      <th>3250</th>\n",
       "      <td>La imagen del \"brujo\" es escasa, incluso en in...</td>\n",
       "      <td>0</td>\n",
       "    </tr>\n",
       "    <tr>\n",
       "      <th>801</th>\n",
       "      <td>A todo señor, todo honor.... Me acaban de llam...</td>\n",
       "      <td>0</td>\n",
       "    </tr>\n",
       "    <tr>\n",
       "      <th>2752</th>\n",
       "      <td>Si es que Máximo Pradera,lo del empoderamiento...</td>\n",
       "      <td>0</td>\n",
       "    </tr>\n",
       "    <tr>\n",
       "      <th>3046</th>\n",
       "      <td>@pamvizcaino @gabycstnd7 Felicitaciones . Yo h...</td>\n",
       "      <td>0</td>\n",
       "    </tr>\n",
       "  </tbody>\n",
       "</table>\n",
       "<p>2655 rows × 2 columns</p>\n",
       "</div>"
      ],
      "text/plain": [
       "                                                   text  klass\n",
       "2674  @PlaysOfTheWeek Jugada futbolera si no va agua...      1\n",
       "1656     @SrtaTumba Y que eres más de sodomizar al LoL.      0\n",
       "2024  @ElEndika @MaxLovesDragas @silnersessian @Lady...      1\n",
       "3053  @AteoAnalitico @pambish Y lo mas complicado de...      1\n",
       "2409  @ElSrDerecha Sr. Fascista, ¿Igualdad real entr...      1\n",
       "...                                                 ...    ...\n",
       "831   igual prefiero q vayan con james a q con el gr...      0\n",
       "3250  La imagen del \"brujo\" es escasa, incluso en in...      0\n",
       "801   A todo señor, todo honor.... Me acaban de llam...      0\n",
       "2752  Si es que Máximo Pradera,lo del empoderamiento...      0\n",
       "3046  @pamvizcaino @gabycstnd7 Felicitaciones . Yo h...      0\n",
       "\n",
       "[2655 rows x 2 columns]"
      ]
     },
     "execution_count": 10,
     "metadata": {},
     "output_type": "execute_result"
    }
   ],
   "source": [
    "df_train = pd.concat([X_train, y_train], axis=1)\n",
    "print(df_train.shape)\n",
    "df_train"
   ]
  },
  {
   "cell_type": "code",
   "execution_count": 11,
   "id": "5eecb9da-36ce-40b7-8822-fbb6935befe5",
   "metadata": {},
   "outputs": [
    {
     "name": "stdout",
     "output_type": "stream",
     "text": [
      "(886, 2)\n"
     ]
    },
    {
     "data": {
      "text/html": [
       "<div>\n",
       "<style scoped>\n",
       "    .dataframe tbody tr th:only-of-type {\n",
       "        vertical-align: middle;\n",
       "    }\n",
       "\n",
       "    .dataframe tbody tr th {\n",
       "        vertical-align: top;\n",
       "    }\n",
       "\n",
       "    .dataframe thead th {\n",
       "        text-align: right;\n",
       "    }\n",
       "</style>\n",
       "<table border=\"1\" class=\"dataframe\">\n",
       "  <thead>\n",
       "    <tr style=\"text-align: right;\">\n",
       "      <th></th>\n",
       "      <th>text</th>\n",
       "      <th>klass</th>\n",
       "    </tr>\n",
       "  </thead>\n",
       "  <tbody>\n",
       "    <tr>\n",
       "      <th>996</th>\n",
       "      <td>@SchrodingerGata @YouTubeEspanol Existe el lib...</td>\n",
       "      <td>0</td>\n",
       "    </tr>\n",
       "    <tr>\n",
       "      <th>138</th>\n",
       "      <td>Grandísimos hijos de puta. Seguro que ni multa...</td>\n",
       "      <td>0</td>\n",
       "    </tr>\n",
       "    <tr>\n",
       "      <th>719</th>\n",
       "      <td>@minervaramoss1 @Kevinn8_ @carlosbntz5 Lávate ...</td>\n",
       "      <td>1</td>\n",
       "    </tr>\n",
       "    <tr>\n",
       "      <th>1811</th>\n",
       "      <td>@Lmarangonib @TattyCanPo @CynthiaViteri6 Mujer...</td>\n",
       "      <td>1</td>\n",
       "    </tr>\n",
       "    <tr>\n",
       "      <th>426</th>\n",
       "      <td>@AlvArrCarlos Que no podamos entender a las mu...</td>\n",
       "      <td>1</td>\n",
       "    </tr>\n",
       "    <tr>\n",
       "      <th>...</th>\n",
       "      <td>...</td>\n",
       "      <td>...</td>\n",
       "    </tr>\n",
       "    <tr>\n",
       "      <th>2927</th>\n",
       "      <td>@Icarte_Ro Y entre el minuto 75 y 90 gol de la...</td>\n",
       "      <td>0</td>\n",
       "    </tr>\n",
       "    <tr>\n",
       "      <th>1111</th>\n",
       "      <td>No terminabamos de dejar atrás el tiempo en qu...</td>\n",
       "      <td>1</td>\n",
       "    </tr>\n",
       "    <tr>\n",
       "      <th>1423</th>\n",
       "      <td>@Chica_MLC @lilyht_lilyht27 @JBALVIN No le hag...</td>\n",
       "      <td>1</td>\n",
       "    </tr>\n",
       "    <tr>\n",
       "      <th>2403</th>\n",
       "      <td>@aburrido354 A TODA MECHA, A TODA MECHATU NO T...</td>\n",
       "      <td>1</td>\n",
       "    </tr>\n",
       "    <tr>\n",
       "      <th>2614</th>\n",
       "      <td>El abogado Calvente baraja demandar a Iglesias...</td>\n",
       "      <td>0</td>\n",
       "    </tr>\n",
       "  </tbody>\n",
       "</table>\n",
       "<p>886 rows × 2 columns</p>\n",
       "</div>"
      ],
      "text/plain": [
       "                                                   text  klass\n",
       "996   @SchrodingerGata @YouTubeEspanol Existe el lib...      0\n",
       "138   Grandísimos hijos de puta. Seguro que ni multa...      0\n",
       "719   @minervaramoss1 @Kevinn8_ @carlosbntz5 Lávate ...      1\n",
       "1811  @Lmarangonib @TattyCanPo @CynthiaViteri6 Mujer...      1\n",
       "426   @AlvArrCarlos Que no podamos entender a las mu...      1\n",
       "...                                                 ...    ...\n",
       "2927  @Icarte_Ro Y entre el minuto 75 y 90 gol de la...      0\n",
       "1111  No terminabamos de dejar atrás el tiempo en qu...      1\n",
       "1423  @Chica_MLC @lilyht_lilyht27 @JBALVIN No le hag...      1\n",
       "2403  @aburrido354 A TODA MECHA, A TODA MECHATU NO T...      1\n",
       "2614  El abogado Calvente baraja demandar a Iglesias...      0\n",
       "\n",
       "[886 rows x 2 columns]"
      ]
     },
     "execution_count": 11,
     "metadata": {},
     "output_type": "execute_result"
    }
   ],
   "source": [
    "df_test = pd.concat([X_test, y_test], axis=1)\n",
    "print(df_test.shape)\n",
    "df_test"
   ]
  },
  {
   "cell_type": "code",
   "execution_count": 12,
   "id": "852a1eee-28c4-47eb-88c9-b805ca8e7764",
   "metadata": {},
   "outputs": [],
   "source": [
    "with open('..\\exist2021_Es_train.json', 'w') as f:\n",
    "    f.write(df_train.to_json(orient='records', lines=True))\n",
    "    \n",
    "with open('..\\exist2021_Es_test.json', 'w') as f:\n",
    "    f.write(df_test.to_json(orient='records', lines=True))"
   ]
  },
  {
   "cell_type": "code",
   "execution_count": 13,
   "id": "469e815a-2b81-4f55-97bc-38f6862c752e",
   "metadata": {},
   "outputs": [],
   "source": [
    "from EvoMSA.base import EvoMSA\n",
    "from microtc.utils import save_model\n",
    "from sklearn import metrics\n",
    "from microtc.utils import load_model\n",
    "from microtc.utils import save_model"
   ]
  },
  {
   "cell_type": "code",
   "execution_count": 14,
   "id": "2ed4c8a6-affe-4ffd-aa74-adcf67b1012c",
   "metadata": {},
   "outputs": [],
   "source": [
    "evo = EvoMSA(TR=True, B4MSA=False, lang='es', Emo=True, Aggress=True, models=None)\n",
    "\n",
    "# Pq a .squeeze() ? "
   ]
  },
  {
   "cell_type": "code",
   "execution_count": 15,
   "id": "2b60f822-bc1c-4e54-b293-2c13638d7efd",
   "metadata": {},
   "outputs": [
    {
     "name": "stderr",
     "output_type": "stream",
     "text": [
      "100%|██████████| 3/3 [01:36<00:00, 32.23s/it]\n",
      "100%|██████████| 5/5 [00:04<00:00,  1.08it/s]\n",
      "100%|██████████| 5/5 [00:00<00:00,  6.56it/s]\n",
      "100%|██████████| 5/5 [00:00<00:00, 82.19it/s]\n",
      "100%|██████████| 30/30 [22:03<00:00, 44.11s/it]  \n",
      "100%|██████████| 3/3 [00:26<00:00,  8.67s/it]\n",
      "100%|██████████| 3/3 [00:00<00:00, 75.20it/s]\n",
      "100%|██████████| 30/30 [00:26<00:00,  1.12it/s]"
     ]
    },
    {
     "name": "stdout",
     "output_type": "stream",
     "text": [
      "0.7491851693164604\n"
     ]
    },
    {
     "name": "stderr",
     "output_type": "stream",
     "text": [
      "\n"
     ]
    }
   ],
   "source": [
    "evo.fit(X_train.squeeze(), y_train.squeeze())\n",
    "pred = evo.predict(X_test.squeeze())\n",
    "print(metrics.f1_score(y_test, pred, average=\"macro\"))"
   ]
  },
  {
   "cell_type": "code",
   "execution_count": 16,
   "id": "9154310d-1e87-4eb4-9330-5d40b1b36d71",
   "metadata": {},
   "outputs": [],
   "source": [
    "# crear modelo pre-entrenado en Sigle par evitar efecto cascada\n",
    "save_model(evo, '..\\\\..\\\\single_models\\\\exist21_single_Es.evomsa') "
   ]
  },
  {
   "cell_type": "markdown",
   "id": "7185d309-4945-49aa-b64c-bf8c67b0a831",
   "metadata": {},
   "source": [
    "### Multiple\n",
    "----------------------------------"
   ]
  },
  {
   "cell_type": "code",
   "execution_count": null,
   "id": "c1ba741f-4a3d-4a92-9256-58453f17c259",
   "metadata": {},
   "outputs": [],
   "source": [
    "stacked_method = \"sklearn.svm.LinearSVC\"\n",
    "# usar = \"sklearn.naive_bayes.BernoulliNB\"\n",
    "# usar = \"sklearn.naive_bayes.MultinomialNB\"\n",
    "\n",
    "reverse_model = [load_model('..\\\\..\\\\models\\\\text_model_inv_simple.evomsa'), stacked_method]\n",
    "haha_model = [load_model('..\\\\..\\\\models\\\\haha2018_Es.evomsa'), stacked_method]\n",
    "mexa3t_model = [load_model('..\\\\..\\\\models\\\\mexa3t2018_aggress_Es.evomsa'), stacked_method]\n",
    "misoginia_model = [load_model('..\\\\..\\\\models\\\\misoginia_Es.evomsa'), stacked_method]\n",
    "\n",
    "mm = [haha_model, mexa3t_model, misoginia_model]\n",
    "\n",
    "evo = EvoMSA(TR=True, B4MSA=False, lang='es', Emo=True, Aggress=True, stacked_method=stacked_method, models= mm)"
   ]
  },
  {
   "cell_type": "code",
   "execution_count": null,
   "id": "27c0c105-0f55-40d8-be92-8fa0863434e2",
   "metadata": {},
   "outputs": [],
   "source": [
    "evo.fit(X_train.squeeze(), y_train.squeeze())\n",
    "pred = evo.predict(X_test.squeeze())\n",
    "print(metrics.f1_score(y_test, pred, average=\"macro\"))"
   ]
  },
  {
   "cell_type": "code",
   "execution_count": null,
   "id": "7d9c8d70-d4f1-4c64-bcac-3151880a5182",
   "metadata": {},
   "outputs": [],
   "source": [
    "# crear modelo pre-entrenado\n",
    "save_model(evo, '..\\\\..\\\\models\\\\exist2021_Es.evomsa') "
   ]
  },
  {
   "cell_type": "code",
   "execution_count": null,
   "id": "f8cd1507-2e79-455c-9658-74caa16b42d5",
   "metadata": {},
   "outputs": [],
   "source": [
    "# probarlo\n",
    "_ = load_model('..\\\\..\\\\models\\\\exist2021_Es.evomsa') \n",
    "pred = _.predict(X_test.squeeze())\n",
    "print(metrics.f1_score(y_test, pred, average=\"macro\"))"
   ]
  },
  {
   "cell_type": "code",
   "execution_count": null,
   "id": "8a5e35db-295b-47ff-8d1b-d8d0a0e67892",
   "metadata": {},
   "outputs": [],
   "source": []
  }
 ],
 "metadata": {
  "kernelspec": {
   "display_name": "Python 3 (ipykernel)",
   "language": "python",
   "name": "python3"
  },
  "language_info": {
   "codemirror_mode": {
    "name": "ipython",
    "version": 3
   },
   "file_extension": ".py",
   "mimetype": "text/x-python",
   "name": "python",
   "nbconvert_exporter": "python",
   "pygments_lexer": "ipython3",
   "version": "3.9.12"
  }
 },
 "nbformat": 4,
 "nbformat_minor": 5
}
