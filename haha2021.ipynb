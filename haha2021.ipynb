{
 "cells": [
  {
   "cell_type": "markdown",
   "id": "d405cf38-0935-40a0-aaee-2a455caa152f",
   "metadata": {},
   "source": [
    "### Haha 2021\n",
    "### Convertir los datasets de las competencias a json y separarlos 75/25 train/test\n",
    "- Se crea el modelo evomsa pre-entrenado haha2021_Es.evomsa\n",
    "- En Single f1_score_macro  = 0.823913749710607\n",
    "- En Muliple f1_score_macro = 0.8363469487658519\n",
    "  - exist21_model, davincis22_model, meoffendes21_model\n"
   ]
  },
  {
   "cell_type": "code",
   "execution_count": 27,
   "id": "4567747b-d9e6-4dde-892e-83666d0f14bb",
   "metadata": {},
   "outputs": [],
   "source": [
    "import pandas as pd\n",
    "import numpy as np\n",
    "from sklearn.model_selection import train_test_split"
   ]
  },
  {
   "cell_type": "code",
   "execution_count": 28,
   "id": "b52d4837-108b-41b8-81c1-d8e580ac27f8",
   "metadata": {},
   "outputs": [],
   "source": [
    "# Exist2021\n",
    "\n",
    "df = pd.read_csv(\"../haha_2021_train.csv\", usecols=['text', 'is_humor']) #,   header=0, nrows=50)# , nrows=30, header=1)\n",
    "df.rename(columns = {'is_humor':'klass'}, inplace = True)"
   ]
  },
  {
   "cell_type": "code",
   "execution_count": 29,
   "id": "e8b7943a-8be5-4df5-ae24-fb7434b2d429",
   "metadata": {},
   "outputs": [
    {
     "data": {
      "text/plain": [
       "(24000, 2)"
      ]
     },
     "execution_count": 29,
     "metadata": {},
     "output_type": "execute_result"
    }
   ],
   "source": [
    "df.shape"
   ]
  },
  {
   "cell_type": "code",
   "execution_count": 30,
   "id": "714ee9b8-8896-446f-b6b8-86aa47f45a33",
   "metadata": {},
   "outputs": [
    {
     "data": {
      "text/html": [
       "<div>\n",
       "<style scoped>\n",
       "    .dataframe tbody tr th:only-of-type {\n",
       "        vertical-align: middle;\n",
       "    }\n",
       "\n",
       "    .dataframe tbody tr th {\n",
       "        vertical-align: top;\n",
       "    }\n",
       "\n",
       "    .dataframe thead th {\n",
       "        text-align: right;\n",
       "    }\n",
       "</style>\n",
       "<table border=\"1\" class=\"dataframe\">\n",
       "  <thead>\n",
       "    <tr style=\"text-align: right;\">\n",
       "      <th></th>\n",
       "      <th>text</th>\n",
       "      <th>klass</th>\n",
       "    </tr>\n",
       "  </thead>\n",
       "  <tbody>\n",
       "    <tr>\n",
       "      <th>0</th>\n",
       "      <td>Niveles de retraso mental: \\n\\n— Bajo.\\n— Medi...</td>\n",
       "      <td>1</td>\n",
       "    </tr>\n",
       "    <tr>\n",
       "      <th>1</th>\n",
       "      <td>—Vamos Luke desenfunda tu sable, demuestra tu ...</td>\n",
       "      <td>1</td>\n",
       "    </tr>\n",
       "    <tr>\n",
       "      <th>2</th>\n",
       "      <td>- ¿Te ofrezco algo?, ¿Agua, café, mi corazón, ...</td>\n",
       "      <td>1</td>\n",
       "    </tr>\n",
       "    <tr>\n",
       "      <th>3</th>\n",
       "      <td>No se porqué me hago la cabeza deooos</td>\n",
       "      <td>0</td>\n",
       "    </tr>\n",
       "    <tr>\n",
       "      <th>4</th>\n",
       "      <td>Quisiera saber que hago durante la siesta de l...</td>\n",
       "      <td>0</td>\n",
       "    </tr>\n",
       "    <tr>\n",
       "      <th>...</th>\n",
       "      <td>...</td>\n",
       "      <td>...</td>\n",
       "    </tr>\n",
       "    <tr>\n",
       "      <th>23995</th>\n",
       "      <td>—Estoy afuera de tu casa, sal. —Ya voy, pimienta.</td>\n",
       "      <td>1</td>\n",
       "    </tr>\n",
       "    <tr>\n",
       "      <th>23996</th>\n",
       "      <td>Un kilo de helado no me vendría mal</td>\n",
       "      <td>0</td>\n",
       "    </tr>\n",
       "    <tr>\n",
       "      <th>23997</th>\n",
       "      <td>Soy la única que no le parece tan mierda el 20...</td>\n",
       "      <td>0</td>\n",
       "    </tr>\n",
       "    <tr>\n",
       "      <th>23998</th>\n",
       "      <td>Alguien tiene cuenta de Netflix que quiera com...</td>\n",
       "      <td>0</td>\n",
       "    </tr>\n",
       "    <tr>\n",
       "      <th>23999</th>\n",
       "      <td>mi abuelo es el mejor imitador del lobo que ex...</td>\n",
       "      <td>1</td>\n",
       "    </tr>\n",
       "  </tbody>\n",
       "</table>\n",
       "<p>24000 rows × 2 columns</p>\n",
       "</div>"
      ],
      "text/plain": [
       "                                                    text  klass\n",
       "0      Niveles de retraso mental: \\n\\n— Bajo.\\n— Medi...      1\n",
       "1      —Vamos Luke desenfunda tu sable, demuestra tu ...      1\n",
       "2      - ¿Te ofrezco algo?, ¿Agua, café, mi corazón, ...      1\n",
       "3                  No se porqué me hago la cabeza deooos      0\n",
       "4      Quisiera saber que hago durante la siesta de l...      0\n",
       "...                                                  ...    ...\n",
       "23995  —Estoy afuera de tu casa, sal. —Ya voy, pimienta.      1\n",
       "23996                Un kilo de helado no me vendría mal      0\n",
       "23997  Soy la única que no le parece tan mierda el 20...      0\n",
       "23998  Alguien tiene cuenta de Netflix que quiera com...      0\n",
       "23999  mi abuelo es el mejor imitador del lobo que ex...      1\n",
       "\n",
       "[24000 rows x 2 columns]"
      ]
     },
     "execution_count": 30,
     "metadata": {},
     "output_type": "execute_result"
    }
   ],
   "source": [
    "df"
   ]
  },
  {
   "cell_type": "code",
   "execution_count": 31,
   "id": "6f82ced9-b9d9-4261-81ef-55961bc36ea3",
   "metadata": {},
   "outputs": [
    {
     "data": {
      "text/plain": [
       "array([0, 1], dtype=int64)"
      ]
     },
     "execution_count": 31,
     "metadata": {},
     "output_type": "execute_result"
    }
   ],
   "source": [
    "np.unique(df['klass'])\n",
    "# 1 es humor\n",
    "# 0 No es humor"
   ]
  },
  {
   "cell_type": "code",
   "execution_count": 32,
   "id": "8c33fba5-46c6-454f-8393-ae9efe0042c3",
   "metadata": {},
   "outputs": [],
   "source": [
    "# df[\"klass\"] = np.where(df[\"klass\"] == \"sexist\", 0, 1)"
   ]
  },
  {
   "cell_type": "code",
   "execution_count": 33,
   "id": "36aca080-5cf3-49d8-ac91-0d7198007f8b",
   "metadata": {},
   "outputs": [],
   "source": [
    "# df"
   ]
  },
  {
   "cell_type": "code",
   "execution_count": 34,
   "id": "1865aa5e-6cfe-4b33-b518-e593eb071092",
   "metadata": {},
   "outputs": [
    {
     "data": {
      "text/plain": [
       "((18000,), (6000,), (18000,), (6000,))"
      ]
     },
     "execution_count": 34,
     "metadata": {},
     "output_type": "execute_result"
    }
   ],
   "source": [
    "X_train, X_test, y_train, y_test = train_test_split(df['text'], df['klass'], train_size=0.75)\n",
    "X_train.shape, X_test.shape, y_train.shape, y_test.shape"
   ]
  },
  {
   "cell_type": "code",
   "execution_count": 36,
   "id": "5f2be74b-0e12-41d4-86fd-9b9a7b661851",
   "metadata": {},
   "outputs": [
    {
     "data": {
      "text/plain": [
       "pandas.core.series.Series"
      ]
     },
     "execution_count": 36,
     "metadata": {},
     "output_type": "execute_result"
    }
   ],
   "source": [
    "type(X_train)"
   ]
  },
  {
   "cell_type": "code",
   "execution_count": 37,
   "id": "6043e2e3-7e9b-43ae-9f74-27277ea20e11",
   "metadata": {},
   "outputs": [
    {
     "name": "stdout",
     "output_type": "stream",
     "text": [
      "(18000, 2)\n"
     ]
    },
    {
     "data": {
      "text/html": [
       "<div>\n",
       "<style scoped>\n",
       "    .dataframe tbody tr th:only-of-type {\n",
       "        vertical-align: middle;\n",
       "    }\n",
       "\n",
       "    .dataframe tbody tr th {\n",
       "        vertical-align: top;\n",
       "    }\n",
       "\n",
       "    .dataframe thead th {\n",
       "        text-align: right;\n",
       "    }\n",
       "</style>\n",
       "<table border=\"1\" class=\"dataframe\">\n",
       "  <thead>\n",
       "    <tr style=\"text-align: right;\">\n",
       "      <th></th>\n",
       "      <th>text</th>\n",
       "      <th>klass</th>\n",
       "    </tr>\n",
       "  </thead>\n",
       "  <tbody>\n",
       "    <tr>\n",
       "      <th>654</th>\n",
       "      <td>#TengoMiedoA Terminar un buen tweet y que teng...</td>\n",
       "      <td>1</td>\n",
       "    </tr>\n",
       "    <tr>\n",
       "      <th>19724</th>\n",
       "      <td>Podrían informarme @ISSSTE_mx por qué aún no s...</td>\n",
       "      <td>0</td>\n",
       "    </tr>\n",
       "    <tr>\n",
       "      <th>3062</th>\n",
       "      <td>Mi madre se queja de mi, pero si supiera lo qu...</td>\n",
       "      <td>0</td>\n",
       "    </tr>\n",
       "    <tr>\n",
       "      <th>18484</th>\n",
       "      <td>Si no exagera, fracasó como madre.</td>\n",
       "      <td>1</td>\n",
       "    </tr>\n",
       "    <tr>\n",
       "      <th>19828</th>\n",
       "      <td>—¿Y POR QUÉ NO PUEDO SALIR EN LA FOTO? ¿ES QUE...</td>\n",
       "      <td>1</td>\n",
       "    </tr>\n",
       "    <tr>\n",
       "      <th>...</th>\n",
       "      <td>...</td>\n",
       "      <td>...</td>\n",
       "    </tr>\n",
       "    <tr>\n",
       "      <th>2669</th>\n",
       "      <td>#ElFísicoAtraePero que te diga: \"no te vayas, ...</td>\n",
       "      <td>0</td>\n",
       "    </tr>\n",
       "    <tr>\n",
       "      <th>4099</th>\n",
       "      <td>Que hago?</td>\n",
       "      <td>0</td>\n",
       "    </tr>\n",
       "    <tr>\n",
       "      <th>2001</th>\n",
       "      <td>¿Por qué te caen tan bien los submarinistas?\\n...</td>\n",
       "      <td>1</td>\n",
       "    </tr>\n",
       "    <tr>\n",
       "      <th>9724</th>\n",
       "      <td>2am y ando escuchando a GG Allin, me entra la ...</td>\n",
       "      <td>0</td>\n",
       "    </tr>\n",
       "    <tr>\n",
       "      <th>6762</th>\n",
       "      <td>Para hoy tendremos una nueva tanda de chistes ...</td>\n",
       "      <td>0</td>\n",
       "    </tr>\n",
       "  </tbody>\n",
       "</table>\n",
       "<p>18000 rows × 2 columns</p>\n",
       "</div>"
      ],
      "text/plain": [
       "                                                    text  klass\n",
       "654    #TengoMiedoA Terminar un buen tweet y que teng...      1\n",
       "19724  Podrían informarme @ISSSTE_mx por qué aún no s...      0\n",
       "3062   Mi madre se queja de mi, pero si supiera lo qu...      0\n",
       "18484                 Si no exagera, fracasó como madre.      1\n",
       "19828  —¿Y POR QUÉ NO PUEDO SALIR EN LA FOTO? ¿ES QUE...      1\n",
       "...                                                  ...    ...\n",
       "2669   #ElFísicoAtraePero que te diga: \"no te vayas, ...      0\n",
       "4099                                           Que hago?      0\n",
       "2001   ¿Por qué te caen tan bien los submarinistas?\\n...      1\n",
       "9724   2am y ando escuchando a GG Allin, me entra la ...      0\n",
       "6762   Para hoy tendremos una nueva tanda de chistes ...      0\n",
       "\n",
       "[18000 rows x 2 columns]"
      ]
     },
     "execution_count": 37,
     "metadata": {},
     "output_type": "execute_result"
    }
   ],
   "source": [
    "df_train = pd.concat([X_train, y_train], axis=1)\n",
    "print(df_train.shape)\n",
    "df_train"
   ]
  },
  {
   "cell_type": "code",
   "execution_count": 38,
   "id": "5eecb9da-36ce-40b7-8822-fbb6935befe5",
   "metadata": {},
   "outputs": [
    {
     "name": "stdout",
     "output_type": "stream",
     "text": [
      "(6000, 2)\n"
     ]
    },
    {
     "data": {
      "text/html": [
       "<div>\n",
       "<style scoped>\n",
       "    .dataframe tbody tr th:only-of-type {\n",
       "        vertical-align: middle;\n",
       "    }\n",
       "\n",
       "    .dataframe tbody tr th {\n",
       "        vertical-align: top;\n",
       "    }\n",
       "\n",
       "    .dataframe thead th {\n",
       "        text-align: right;\n",
       "    }\n",
       "</style>\n",
       "<table border=\"1\" class=\"dataframe\">\n",
       "  <thead>\n",
       "    <tr style=\"text-align: right;\">\n",
       "      <th></th>\n",
       "      <th>text</th>\n",
       "      <th>klass</th>\n",
       "    </tr>\n",
       "  </thead>\n",
       "  <tbody>\n",
       "    <tr>\n",
       "      <th>12165</th>\n",
       "      <td>Esos dubbys en plena Walmart NO son de Dios!! ...</td>\n",
       "      <td>0</td>\n",
       "    </tr>\n",
       "    <tr>\n",
       "      <th>12586</th>\n",
       "      <td>- ¡Papá, Papá, llévame al circo!\\n- No hijo, q...</td>\n",
       "      <td>1</td>\n",
       "    </tr>\n",
       "    <tr>\n",
       "      <th>9927</th>\n",
       "      <td>Vamos Argentina! Quien más quiere que gane la ...</td>\n",
       "      <td>0</td>\n",
       "    </tr>\n",
       "    <tr>\n",
       "      <th>13106</th>\n",
       "      <td>Que rica es la tortilla lpm</td>\n",
       "      <td>0</td>\n",
       "    </tr>\n",
       "    <tr>\n",
       "      <th>11997</th>\n",
       "      <td>me tatuaria en la frente ese tw</td>\n",
       "      <td>0</td>\n",
       "    </tr>\n",
       "    <tr>\n",
       "      <th>...</th>\n",
       "      <td>...</td>\n",
       "      <td>...</td>\n",
       "    </tr>\n",
       "    <tr>\n",
       "      <th>2123</th>\n",
       "      <td>La gente notoria me irrita 😐</td>\n",
       "      <td>0</td>\n",
       "    </tr>\n",
       "    <tr>\n",
       "      <th>669</th>\n",
       "      <td>Soy una maravilla de ex, no fastidio, no extra...</td>\n",
       "      <td>0</td>\n",
       "    </tr>\n",
       "    <tr>\n",
       "      <th>16158</th>\n",
       "      <td>LEVÁNTENSE! Si no los ha tumbado el hambre no ...</td>\n",
       "      <td>0</td>\n",
       "    </tr>\n",
       "    <tr>\n",
       "      <th>19083</th>\n",
       "      <td>🔋100% 😂\\n🔋90% 😆 \\n🔋80% 😄 \\n🔋70% 😋 \\n🔋60% 😅 \\n🔋...</td>\n",
       "      <td>1</td>\n",
       "    </tr>\n",
       "    <tr>\n",
       "      <th>6717</th>\n",
       "      <td>Ayer lloraba por verte llorona, hoy lloro porq...</td>\n",
       "      <td>0</td>\n",
       "    </tr>\n",
       "  </tbody>\n",
       "</table>\n",
       "<p>6000 rows × 2 columns</p>\n",
       "</div>"
      ],
      "text/plain": [
       "                                                    text  klass\n",
       "12165  Esos dubbys en plena Walmart NO son de Dios!! ...      0\n",
       "12586  - ¡Papá, Papá, llévame al circo!\\n- No hijo, q...      1\n",
       "9927   Vamos Argentina! Quien más quiere que gane la ...      0\n",
       "13106                        Que rica es la tortilla lpm      0\n",
       "11997                    me tatuaria en la frente ese tw      0\n",
       "...                                                  ...    ...\n",
       "2123                        La gente notoria me irrita 😐      0\n",
       "669    Soy una maravilla de ex, no fastidio, no extra...      0\n",
       "16158  LEVÁNTENSE! Si no los ha tumbado el hambre no ...      0\n",
       "19083  🔋100% 😂\\n🔋90% 😆 \\n🔋80% 😄 \\n🔋70% 😋 \\n🔋60% 😅 \\n🔋...      1\n",
       "6717   Ayer lloraba por verte llorona, hoy lloro porq...      0\n",
       "\n",
       "[6000 rows x 2 columns]"
      ]
     },
     "execution_count": 38,
     "metadata": {},
     "output_type": "execute_result"
    }
   ],
   "source": [
    "df_test = pd.concat([X_test, y_test], axis=1)\n",
    "print(df_test.shape)\n",
    "df_test"
   ]
  },
  {
   "cell_type": "code",
   "execution_count": 39,
   "id": "852a1eee-28c4-47eb-88c9-b805ca8e7764",
   "metadata": {},
   "outputs": [],
   "source": [
    "with open('..\\haha2021_Es_train.json', 'w') as f:\n",
    "    f.write(df_train.to_json(orient='records', lines=True))\n",
    "    \n",
    "with open('..\\haha2021_Es_test.json', 'w') as f:\n",
    "    f.write(df_test.to_json(orient='records', lines=True))"
   ]
  },
  {
   "cell_type": "code",
   "execution_count": 40,
   "id": "469e815a-2b81-4f55-97bc-38f6862c752e",
   "metadata": {},
   "outputs": [],
   "source": [
    "from EvoMSA.base import EvoMSA\n",
    "from microtc.utils import save_model\n",
    "from sklearn import metrics\n",
    "from microtc.utils import load_model\n",
    "from microtc.utils import save_model"
   ]
  },
  {
   "cell_type": "code",
   "execution_count": 41,
   "id": "2ed4c8a6-affe-4ffd-aa74-adcf67b1012c",
   "metadata": {},
   "outputs": [],
   "source": [
    "evo = EvoMSA(TR=True, B4MSA=False, lang='es', Emo=True, Aggress=True, models=None)\n",
    "\n",
    "# Pq a .squeeze() ? "
   ]
  },
  {
   "cell_type": "code",
   "execution_count": 42,
   "id": "2b60f822-bc1c-4e54-b293-2c13638d7efd",
   "metadata": {},
   "outputs": [
    {
     "name": "stderr",
     "output_type": "stream",
     "text": [
      "100%|██████████| 3/3 [01:05<00:00, 21.79s/it]\n",
      "100%|██████████| 5/5 [00:03<00:00,  1.36it/s]\n",
      "100%|██████████| 5/5 [00:00<00:00,  5.55it/s]\n",
      "100%|██████████| 5/5 [00:00<00:00, 60.63it/s]\n",
      "100%|██████████| 30/30 [1:01:03<00:00, 122.11s/it]\n",
      "100%|██████████| 3/3 [00:23<00:00,  7.80s/it]\n",
      "100%|██████████| 3/3 [00:00<00:00, 53.83it/s]\n",
      "100%|██████████| 30/30 [00:05<00:00,  5.54it/s]"
     ]
    },
    {
     "name": "stdout",
     "output_type": "stream",
     "text": [
      "0.823913749710607\n"
     ]
    },
    {
     "name": "stderr",
     "output_type": "stream",
     "text": [
      "\n"
     ]
    }
   ],
   "source": [
    "evo.fit(X_train.squeeze(), y_train.squeeze())\n",
    "pred = evo.predict(X_test.squeeze())\n",
    "print(metrics.f1_score(y_test, pred, average=\"macro\"))"
   ]
  },
  {
   "cell_type": "code",
   "execution_count": 45,
   "id": "2cb4bc72-7053-4682-9dc6-1f32d51cd42c",
   "metadata": {},
   "outputs": [],
   "source": [
    "# crear modelo pre-entrenado en Sigle par evitar efecto cascada\n",
    "save_model(evo, '..\\\\..\\\\single_models\\\\haha21_single_Es.evomsa') "
   ]
  },
  {
   "cell_type": "markdown",
   "id": "5797aa5f-a9a6-44d8-b68b-160eccaa835c",
   "metadata": {},
   "source": [
    "### Multiple\n",
    "---"
   ]
  },
  {
   "cell_type": "code",
   "execution_count": 49,
   "id": "99dbe7d1-d3a4-43e6-9b9b-666954660457",
   "metadata": {},
   "outputs": [
    {
     "ename": "FileNotFoundError",
     "evalue": "[Errno 2] No such file or directory: '..\\\\..\\\\single_models\\\\mexa3t2018_aggress_Es.evomsa'",
     "output_type": "error",
     "traceback": [
      "\u001b[1;31m---------------------------------------------------------------------------\u001b[0m",
      "\u001b[1;31mFileNotFoundError\u001b[0m                         Traceback (most recent call last)",
      "Input \u001b[1;32mIn [49]\u001b[0m, in \u001b[0;36m<cell line: 9>\u001b[1;34m()\u001b[0m\n\u001b[0;32m      7\u001b[0m exist21_model \u001b[38;5;241m=\u001b[39m [load_model(\u001b[38;5;124m'\u001b[39m\u001b[38;5;124m../../single_models/exist21_single_Es.evomsa\u001b[39m\u001b[38;5;124m'\u001b[39m), stacked_method]\n\u001b[0;32m      8\u001b[0m \u001b[38;5;66;03m# haha18_model = [load_model('..\\\\..\\\\single_models\\\\haha2018_Es.evomsa'), stacked_method]\u001b[39;00m\n\u001b[1;32m----> 9\u001b[0m mexa3t_model \u001b[38;5;241m=\u001b[39m [\u001b[43mload_model\u001b[49m\u001b[43m(\u001b[49m\u001b[38;5;124;43m'\u001b[39;49m\u001b[38;5;124;43m..\u001b[39;49m\u001b[38;5;130;43;01m\\\\\u001b[39;49;00m\u001b[38;5;124;43m..\u001b[39;49m\u001b[38;5;130;43;01m\\\\\u001b[39;49;00m\u001b[38;5;124;43msingle_models\u001b[39;49m\u001b[38;5;130;43;01m\\\\\u001b[39;49;00m\u001b[38;5;124;43mmexa3t2018_aggress_Es.evomsa\u001b[39;49m\u001b[38;5;124;43m'\u001b[39;49m\u001b[43m)\u001b[49m, stacked_method]\n\u001b[0;32m     10\u001b[0m misoginia_model \u001b[38;5;241m=\u001b[39m [load_model(\u001b[38;5;124m'\u001b[39m\u001b[38;5;124m..\u001b[39m\u001b[38;5;130;01m\\\\\u001b[39;00m\u001b[38;5;124m..\u001b[39m\u001b[38;5;130;01m\\\\\u001b[39;00m\u001b[38;5;124msingle_models\u001b[39m\u001b[38;5;130;01m\\\\\u001b[39;00m\u001b[38;5;124mmisoginia_Es.evomsa\u001b[39m\u001b[38;5;124m'\u001b[39m), stacked_method]\n\u001b[0;32m     11\u001b[0m davincis22_model \u001b[38;5;241m=\u001b[39m [load_model(\u001b[38;5;124m'\u001b[39m\u001b[38;5;124m../../single_models/davincis22_single_Es.evomsa\u001b[39m\u001b[38;5;124m'\u001b[39m), stacked_method]\n",
      "File \u001b[1;32m~\\anaconda3\\envs\\orange3\\lib\\site-packages\\microtc\\utils.py:138\u001b[0m, in \u001b[0;36mload_model\u001b[1;34m(fname)\u001b[0m\n\u001b[0;32m    136\u001b[0m \u001b[38;5;28;01mimport\u001b[39;00m \u001b[38;5;21;01mgzip\u001b[39;00m\n\u001b[0;32m    137\u001b[0m \u001b[38;5;28;01mimport\u001b[39;00m \u001b[38;5;21;01mpickle\u001b[39;00m\n\u001b[1;32m--> 138\u001b[0m \u001b[38;5;28;01mwith\u001b[39;00m \u001b[43mgzip\u001b[49m\u001b[38;5;241;43m.\u001b[39;49m\u001b[43mopen\u001b[49m\u001b[43m(\u001b[49m\u001b[43mfname\u001b[49m\u001b[43m,\u001b[49m\u001b[43m \u001b[49m\u001b[38;5;124;43m'\u001b[39;49m\u001b[38;5;124;43mr\u001b[39;49m\u001b[38;5;124;43m'\u001b[39;49m\u001b[43m)\u001b[49m \u001b[38;5;28;01mas\u001b[39;00m fpt:\n\u001b[0;32m    139\u001b[0m     _ \u001b[38;5;241m=\u001b[39m pickle\u001b[38;5;241m.\u001b[39mload(fpt)\n\u001b[0;32m    140\u001b[0m \u001b[38;5;28;01mreturn\u001b[39;00m _\n",
      "File \u001b[1;32m~\\anaconda3\\envs\\orange3\\lib\\gzip.py:58\u001b[0m, in \u001b[0;36mopen\u001b[1;34m(filename, mode, compresslevel, encoding, errors, newline)\u001b[0m\n\u001b[0;32m     56\u001b[0m gz_mode \u001b[38;5;241m=\u001b[39m mode\u001b[38;5;241m.\u001b[39mreplace(\u001b[38;5;124m\"\u001b[39m\u001b[38;5;124mt\u001b[39m\u001b[38;5;124m\"\u001b[39m, \u001b[38;5;124m\"\u001b[39m\u001b[38;5;124m\"\u001b[39m)\n\u001b[0;32m     57\u001b[0m \u001b[38;5;28;01mif\u001b[39;00m \u001b[38;5;28misinstance\u001b[39m(filename, (\u001b[38;5;28mstr\u001b[39m, \u001b[38;5;28mbytes\u001b[39m, os\u001b[38;5;241m.\u001b[39mPathLike)):\n\u001b[1;32m---> 58\u001b[0m     binary_file \u001b[38;5;241m=\u001b[39m \u001b[43mGzipFile\u001b[49m\u001b[43m(\u001b[49m\u001b[43mfilename\u001b[49m\u001b[43m,\u001b[49m\u001b[43m \u001b[49m\u001b[43mgz_mode\u001b[49m\u001b[43m,\u001b[49m\u001b[43m \u001b[49m\u001b[43mcompresslevel\u001b[49m\u001b[43m)\u001b[49m\n\u001b[0;32m     59\u001b[0m \u001b[38;5;28;01melif\u001b[39;00m \u001b[38;5;28mhasattr\u001b[39m(filename, \u001b[38;5;124m\"\u001b[39m\u001b[38;5;124mread\u001b[39m\u001b[38;5;124m\"\u001b[39m) \u001b[38;5;129;01mor\u001b[39;00m \u001b[38;5;28mhasattr\u001b[39m(filename, \u001b[38;5;124m\"\u001b[39m\u001b[38;5;124mwrite\u001b[39m\u001b[38;5;124m\"\u001b[39m):\n\u001b[0;32m     60\u001b[0m     binary_file \u001b[38;5;241m=\u001b[39m GzipFile(\u001b[38;5;28;01mNone\u001b[39;00m, gz_mode, compresslevel, filename)\n",
      "File \u001b[1;32m~\\anaconda3\\envs\\orange3\\lib\\gzip.py:173\u001b[0m, in \u001b[0;36mGzipFile.__init__\u001b[1;34m(self, filename, mode, compresslevel, fileobj, mtime)\u001b[0m\n\u001b[0;32m    171\u001b[0m     mode \u001b[38;5;241m+\u001b[39m\u001b[38;5;241m=\u001b[39m \u001b[38;5;124m'\u001b[39m\u001b[38;5;124mb\u001b[39m\u001b[38;5;124m'\u001b[39m\n\u001b[0;32m    172\u001b[0m \u001b[38;5;28;01mif\u001b[39;00m fileobj \u001b[38;5;129;01mis\u001b[39;00m \u001b[38;5;28;01mNone\u001b[39;00m:\n\u001b[1;32m--> 173\u001b[0m     fileobj \u001b[38;5;241m=\u001b[39m \u001b[38;5;28mself\u001b[39m\u001b[38;5;241m.\u001b[39mmyfileobj \u001b[38;5;241m=\u001b[39m \u001b[43mbuiltins\u001b[49m\u001b[38;5;241;43m.\u001b[39;49m\u001b[43mopen\u001b[49m\u001b[43m(\u001b[49m\u001b[43mfilename\u001b[49m\u001b[43m,\u001b[49m\u001b[43m \u001b[49m\u001b[43mmode\u001b[49m\u001b[43m \u001b[49m\u001b[38;5;129;43;01mor\u001b[39;49;00m\u001b[43m \u001b[49m\u001b[38;5;124;43m'\u001b[39;49m\u001b[38;5;124;43mrb\u001b[39;49m\u001b[38;5;124;43m'\u001b[39;49m\u001b[43m)\u001b[49m\n\u001b[0;32m    174\u001b[0m \u001b[38;5;28;01mif\u001b[39;00m filename \u001b[38;5;129;01mis\u001b[39;00m \u001b[38;5;28;01mNone\u001b[39;00m:\n\u001b[0;32m    175\u001b[0m     filename \u001b[38;5;241m=\u001b[39m \u001b[38;5;28mgetattr\u001b[39m(fileobj, \u001b[38;5;124m'\u001b[39m\u001b[38;5;124mname\u001b[39m\u001b[38;5;124m'\u001b[39m, \u001b[38;5;124m'\u001b[39m\u001b[38;5;124m'\u001b[39m)\n",
      "\u001b[1;31mFileNotFoundError\u001b[0m: [Errno 2] No such file or directory: '..\\\\..\\\\single_models\\\\mexa3t2018_aggress_Es.evomsa'"
     ]
    }
   ],
   "source": [
    "stacked_method = \"sklearn.svm.LinearSVC\"\n",
    "# usar = \"sklearn.naive_bayes.BernoulliNB\"\n",
    "# usar = \"sklearn.naive_bayes.MultinomialNB\"\n",
    "\n",
    "### Descarto haha2021 (y 2018 caduca)\n",
    "\n",
    "exist21_model = [load_model('../../single_models/exist21_single_Es.evomsa'), stacked_method]\n",
    "# haha18_model = [load_model('..\\\\..\\\\single_models\\\\haha2018_Es.evomsa'), stacked_method]\n",
    "#mexa3t_model = [load_model('..\\\\..\\\\single_models\\\\mexa3t2018_aggress_Es.evomsa'), stacked_method]\n",
    "#misoginia_model = [load_model('..\\\\..\\\\single_models\\\\misoginia_Es.evomsa'), stacked_method]\n",
    "davincis22_model = [load_model('../../single_models/davincis22_single_Es.evomsa'), stacked_method]\n",
    "meoffendes21_model = [load_model('../../single_models/meoffendes21_single_Es.evomsa'), stacked_method]\n",
    "\n",
    "mm = [exist21_model, davincis22_model, meoffendes21_model, mexa3t_model, misoginia_model]\n",
    "\n",
    "evo = EvoMSA(TR=True, B4MSA=False, lang='es', Emo=True, Aggress=True, stacked_method=stacked_method, models= mm)"
   ]
  },
  {
   "cell_type": "code",
   "execution_count": 47,
   "id": "2c0841d2-42b4-4999-8fce-29ef4436b861",
   "metadata": {},
   "outputs": [
    {
     "name": "stderr",
     "output_type": "stream",
     "text": [
      " 17%|█▋        | 1/6 [03:32<17:40, 212.18s/it]\n",
      "  0%|          | 0/3 [00:00<?, ?it/s]\u001b[A\n",
      " 33%|███▎      | 1/3 [02:39<05:18, 159.28s/it]\u001b[A\n",
      " 67%|██████▋   | 2/3 [03:07<01:22, 82.14s/it] \u001b[A\n",
      "100%|██████████| 3/3 [03:29<00:00, 69.74s/it]\u001b[A\n",
      "\n",
      "  0%|          | 0/3 [00:00<?, ?it/s]\u001b[A\n",
      "100%|██████████| 3/3 [00:00<00:00, 13.99it/s]\u001b[A\n",
      " 33%|███▎      | 2/6 [07:01<14:02, 210.61s/it]\n",
      "  0%|          | 0/3 [00:00<?, ?it/s]\u001b[A\n",
      " 33%|███▎      | 1/3 [02:28<04:56, 148.26s/it]\u001b[A\n",
      " 67%|██████▋   | 2/3 [03:01<01:20, 80.79s/it] \u001b[A\n",
      "100%|██████████| 3/3 [03:21<00:00, 67.22s/it]\u001b[A\n",
      "\n",
      "  0%|          | 0/3 [00:00<?, ?it/s]\u001b[A\n",
      "100%|██████████| 3/3 [00:00<00:00,  4.04it/s]\u001b[A\n",
      " 50%|█████     | 3/6 [10:24<10:20, 206.91s/it]\n",
      "  0%|          | 0/3 [00:00<?, ?it/s]\u001b[A\n",
      " 33%|███▎      | 1/3 [02:22<04:44, 142.10s/it]\u001b[A\n",
      " 67%|██████▋   | 2/3 [02:53<01:16, 76.85s/it] \u001b[A\n",
      "100%|██████████| 3/3 [03:15<00:00, 65.12s/it]\u001b[A\n",
      "\n",
      "  0%|          | 0/3 [00:00<?, ?it/s]\u001b[A\n",
      " 33%|███▎      | 1/3 [00:00<00:00,  6.23it/s]\u001b[A\n",
      "100%|██████████| 3/3 [00:00<00:00,  9.56it/s]\u001b[A\n",
      "100%|██████████| 6/6 [14:42<00:00, 147.11s/it]\n",
      "100%|██████████| 5/5 [00:10<00:00,  2.12s/it]\n",
      "100%|██████████| 5/5 [00:01<00:00,  4.86it/s]\n",
      "100%|██████████| 5/5 [00:03<00:00,  1.47it/s]\n",
      "100%|██████████| 5/5 [00:01<00:00,  2.86it/s]\n",
      "100%|██████████| 5/5 [00:02<00:00,  2.40it/s]\n",
      "100%|██████████| 5/5 [00:00<00:00, 21.33it/s]\n",
      " 17%|█▋        | 1/6 [01:11<05:58, 71.79s/it]\n",
      "  0%|          | 0/3 [00:00<?, ?it/s]\u001b[A\n",
      " 33%|███▎      | 1/3 [00:53<01:46, 53.02s/it]\u001b[A\n",
      " 67%|██████▋   | 2/3 [01:03<00:28, 28.21s/it]\u001b[A\n",
      "100%|██████████| 3/3 [01:10<00:00, 23.41s/it]\u001b[A\n",
      "\n",
      "100%|██████████| 3/3 [00:00<00:00, 42.32it/s]\n",
      " 33%|███▎      | 2/6 [02:22<04:43, 70.93s/it]\n",
      "  0%|          | 0/3 [00:00<?, ?it/s]\u001b[A\n",
      " 33%|███▎      | 1/3 [00:51<01:42, 51.14s/it]\u001b[A\n",
      " 67%|██████▋   | 2/3 [01:00<00:26, 26.72s/it]\u001b[A\n",
      "100%|██████████| 3/3 [01:06<00:00, 22.33s/it]\u001b[A\n",
      "\n",
      "100%|██████████| 3/3 [00:00<00:00, 49.31it/s]\n",
      " 50%|█████     | 3/6 [03:29<03:27, 69.19s/it]\n",
      "  0%|          | 0/3 [00:00<?, ?it/s]\u001b[A\n",
      " 33%|███▎      | 1/3 [00:46<01:33, 46.89s/it]\u001b[A\n",
      " 67%|██████▋   | 2/3 [00:55<00:24, 24.60s/it]\u001b[A\n",
      "100%|██████████| 3/3 [01:02<00:00, 20.67s/it]\u001b[A\n",
      "\n",
      "100%|██████████| 3/3 [00:00<00:00, 88.42it/s]\n",
      "100%|██████████| 6/6 [04:45<00:00, 47.58s/it]\n",
      "100%|██████████| 6/6 [00:00<00:00, 47.46it/s]\n"
     ]
    }
   ],
   "source": [
    "evo.fit(X_train.squeeze(), y_train.squeeze())\n",
    "pred = evo.predict(X_test.squeeze())"
   ]
  },
  {
   "cell_type": "code",
   "execution_count": 48,
   "id": "5cc116c6-4b19-4416-94e8-9bfc80e8aa1c",
   "metadata": {},
   "outputs": [
    {
     "name": "stdout",
     "output_type": "stream",
     "text": [
      "0.8363469487658519\n"
     ]
    }
   ],
   "source": [
    "print(metrics.f1_score(y_test, pred, average=\"macro\"))"
   ]
  },
  {
   "cell_type": "code",
   "execution_count": 86,
   "id": "7d9c8d70-d4f1-4c64-bcac-3151880a5182",
   "metadata": {},
   "outputs": [],
   "source": [
    "# crear modelo pre-entrenado\n",
    "\n",
    "## Se escala ?\n",
    "\n",
    "save_model(evo, '..\\\\..\\\\models\\\\haha2021_Es.evomsa') "
   ]
  },
  {
   "cell_type": "code",
   "execution_count": null,
   "id": "f8cd1507-2e79-455c-9658-74caa16b42d5",
   "metadata": {},
   "outputs": [],
   "source": [
    "# probarlo\n",
    "_ = load_model('..\\\\..\\\\models\\\\haha2021_Es.evomsa') \n",
    "pred = _.predict(X_test.squeeze())\n",
    "print(metrics.f1_score(y_test, pred, average=\"macro\"))"
   ]
  },
  {
   "cell_type": "code",
   "execution_count": null,
   "id": "8a5e35db-295b-47ff-8d1b-d8d0a0e67892",
   "metadata": {},
   "outputs": [],
   "source": []
  }
 ],
 "metadata": {
  "kernelspec": {
   "display_name": "Python 3 (ipykernel)",
   "language": "python",
   "name": "python3"
  },
  "language_info": {
   "codemirror_mode": {
    "name": "ipython",
    "version": 3
   },
   "file_extension": ".py",
   "mimetype": "text/x-python",
   "name": "python",
   "nbconvert_exporter": "python",
   "pygments_lexer": "ipython3",
   "version": "3.9.12"
  }
 },
 "nbformat": 4,
 "nbformat_minor": 5
}
