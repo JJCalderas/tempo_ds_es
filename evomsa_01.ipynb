{
 "cells": [
  {
   "cell_type": "code",
   "execution_count": 1,
   "id": "08c6c713-e323-4410-9696-d10fa0f005dc",
   "metadata": {},
   "outputs": [],
   "source": [
    "from microtc.utils import load_model\n",
    "from glob import glob\n",
    "import pandas as pd\n",
    "from sklearn.model_selection import train_test_split\n",
    "from EvoMSA.base import EvoMSA\n",
    "from sklearn import metrics\n",
    "import winsound\n",
    "\n",
    "import warnings\n",
    "warnings.filterwarnings('ignore')"
   ]
  },
  {
   "cell_type": "code",
   "execution_count": null,
   "id": "8cbe09d8-1461-4c7c-a0b2-9d6fd86e6ce7",
   "metadata": {},
   "outputs": [],
   "source": []
  },
  {
   "cell_type": "code",
   "execution_count": 2,
   "id": "cf100fed-3f34-4bf6-a2fa-9848244898ad",
   "metadata": {},
   "outputs": [],
   "source": [
    "from EvoMSA.utils import download\n",
    "#haha = download('haha2018_Es.evomsa')\n",
    "#mexa3t = download('mexa3t2018_aggress_Es.evomsa')\n",
    "#misoginia = download('misoginia_Es.evomsa')\n",
    "## C:\\Users\\juan\\anaconda3\\lib\\site-packages\\EvoMSA\\models\\"
   ]
  },
  {
   "cell_type": "code",
   "execution_count": null,
   "id": "e95df2a5-7b18-4d70-be42-23dda6838904",
   "metadata": {},
   "outputs": [],
   "source": []
  },
  {
   "cell_type": "code",
   "execution_count": 3,
   "id": "6773b296-3c13-477d-ab35-216d63d7fb57",
   "metadata": {},
   "outputs": [
    {
     "data": {
      "text/plain": [
       "''"
      ]
     },
     "execution_count": 3,
     "metadata": {},
     "output_type": "execute_result"
    }
   ],
   "source": [
    "reverse_model = [load_model('models\\\\text_model_inv_simple.evomsa'), \"sklearn.svm.LinearSVC\"]\n",
    "haha_model = [load_model('models\\\\haha2018_Es.evomsa'), \"sklearn.svm.LinearSVC\"]\n",
    "mexa3t_model = [load_model('models\\\\mexa3t2018_aggress_Es.evomsa'), \"sklearn.svm.LinearSVC\"]\n",
    "misoginia_model = [load_model('models\\\\misoginia_Es.evomsa'), \"sklearn.svm.LinearSVC\"]\n",
    "\n",
    "MM = [\n",
    "      [],  \n",
    "      [reverse_model],\n",
    "      [haha_model],\n",
    "      [mexa3t_model], \n",
    "      [misoginia_model],\n",
    "      [reverse_model, haha_model],\n",
    "      [haha_model, mexa3t_model], \n",
    "      [haha_model, misoginia_model],\n",
    "      [haha_model, mexa3t_model, misoginia_model],\n",
    "      [reverse_model, haha_model, mexa3t_model, misoginia_model],\n",
    "     ]\n",
    ";"
   ]
  },
  {
   "cell_type": "code",
   "execution_count": null,
   "id": "95ce2809-78ee-4762-93bc-9e1ab0ef3071",
   "metadata": {},
   "outputs": [],
   "source": [
    "%%time\n",
    "# %%capture\n",
    "\n",
    "fnames = glob(\"dataset_Es/*_train.json\")\n",
    "#fnames = glob(\"dataset_Es/meoffendes2021_mx_Es_train.json\")\n",
    "fnames.sort()\n",
    "\n",
    "P = []\n",
    "for fn in fnames:\n",
    "    \n",
    "    train_df = pd.read_json(fn, lines=True)\n",
    "    test_df = pd.read_json(fn.replace(\"_train\", \"_test\"), lines=True)\n",
    "    \n",
    "    # recortarlos para probar\n",
    "    train_df = train_df.loc[0:19, ['text', 'klass']]  # DataFrame\n",
    "    test_df = test_df.loc[0:19, ['text', 'klass']]\n",
    "    \n",
    "    # nombrar el ds\n",
    "    ds_n = fn.replace(\"dataset_Es/\",'').replace('_train.json','')\n",
    "    #p = []    \n",
    "    print('__',ds_n,'___')\n",
    "    \n",
    "    X_train, X_test, y_train, y_test = train_test_split(train_df['text'], train_df['klass'], test_size=0.25, random_state=5)\n",
    "    # regresa Series. Tiene el indice y su valor. El indice concuerda entre X_train-y_train y X_test y y_test.\n",
    "    \n",
    "    for m in MM:\n",
    "        print('M> ', m)\n",
    "        \n",
    "        evo = EvoMSA(TR=True, B4MSA=False, lang='es', models=m, cache=None)\n",
    "        evo_fit = evo.fit(X_train, y_train)\n",
    "        \n",
    "        y_pred = evo_fit.predict(X_test)        \n",
    "        recall_score = metrics.recall_score(y_test, y_pred, average=\"macro\")\n",
    "        precision_score = metrics.precision_score(y_test, y_pred, average=\"macro\")\n",
    "        f1_score = metrics.f1_score(y_test, y_pred, average='macro')\n",
    "    \n",
    "        _ = [ds_n, f1_score, recall_score, precision_score] \n",
    "\n",
    "        P.append(_)\n",
    "        winsound.Beep(4500, 300)\n",
    "        \n",
    "    #P.append(p)\n",
    "    winsound.Beep(3000, 900)\n",
    "        \n",
    "for p in P:\n",
    "    print(\"{0}, {1:1.6f}, {2:1.6f}, {3:1.6f}\".format(p[0], p[1], p[2], p[3]))   "
   ]
  },
  {
   "cell_type": "code",
   "execution_count": 5,
   "id": "8ee81978-9f34-4343-bd3f-fe17f0d34265",
   "metadata": {},
   "outputs": [
    {
     "name": "stdout",
     "output_type": "stream",
     "text": [
      "dataset_Es\\haha2018_Es, 0.843802, 0.845808, 0.841989\n",
      "dataset_Es\\haha2018_Es, 0.845643, 0.846932, 0.844434\n",
      "dataset_Es\\haha2018_Es, 0.967152, 0.965281, 0.969134\n",
      "dataset_Es\\haha2018_Es, 0.843757, 0.845660, 0.842029\n",
      "dataset_Es\\haha2018_Es, 0.845238, 0.846836, 0.843762\n",
      "dataset_Es\\haha2018_Es, 0.967101, 0.964539, 0.969874\n",
      "dataset_Es\\haha2018_Es, 0.966905, 0.965382, 0.968503\n",
      "dataset_Es\\haha2018_Es, 0.968010, 0.966760, 0.969309\n",
      "dataset_Es\\haha2018_Es, 0.968562, 0.967449, 0.969713\n",
      "dataset_Es\\haha2018_Es, 0.967172, 0.965578, 0.968846\n",
      "dataset_Es\\meoffendes2021_mx_Es, 0.737258, 0.735195, 0.739501\n",
      "dataset_Es\\meoffendes2021_mx_Es, 0.739001, 0.735341, 0.743243\n",
      "dataset_Es\\meoffendes2021_mx_Es, 0.737785, 0.736173, 0.739506\n",
      "dataset_Es\\meoffendes2021_mx_Es, 0.758801, 0.761618, 0.756253\n",
      "dataset_Es\\meoffendes2021_mx_Es, 0.739657, 0.737574, 0.741923\n",
      "dataset_Es\\meoffendes2021_mx_Es, 0.735918, 0.734772, 0.737118\n",
      "dataset_Es\\meoffendes2021_mx_Es, 0.757395, 0.759940, 0.755073\n",
      "dataset_Es\\meoffendes2021_mx_Es, 0.735509, 0.735050, 0.735977\n",
      "dataset_Es\\meoffendes2021_mx_Es, 0.754580, 0.755330, 0.753851\n",
      "dataset_Es\\meoffendes2021_mx_Es, 0.753633, 0.754629, 0.752672\n",
      "dataset_Es\\mexa3t2018_aggress_Es, 0.780528, 0.787184, 0.776531\n",
      "dataset_Es\\mexa3t2018_aggress_Es, 0.780052, 0.788608, 0.775732\n",
      "dataset_Es\\mexa3t2018_aggress_Es, 0.783974, 0.791249, 0.779790\n",
      "dataset_Es\\mexa3t2018_aggress_Es, 0.993609, 0.994463, 0.992778\n",
      "dataset_Es\\mexa3t2018_aggress_Es, 0.780686, 0.787616, 0.776621\n",
      "dataset_Es\\mexa3t2018_aggress_Es, 0.781859, 0.789496, 0.777634\n",
      "dataset_Es\\mexa3t2018_aggress_Es, 0.992789, 0.992150, 0.993440\n",
      "dataset_Es\\mexa3t2018_aggress_Es, 0.783269, 0.790665, 0.779069\n",
      "dataset_Es\\mexa3t2018_aggress_Es, 0.992005, 0.992430, 0.991585\n",
      "dataset_Es\\mexa3t2018_aggress_Es, 0.992801, 0.993014, 0.992590\n",
      "dataset_Es\\misoginia_Es, 0.761190, 0.761141, 0.761294\n",
      "dataset_Es\\misoginia_Es, 0.771465, 0.771363, 0.772590\n",
      "dataset_Es\\misoginia_Es, 0.768552, 0.768450, 0.769249\n",
      "dataset_Es\\misoginia_Es, 0.762683, 0.762625, 0.762829\n",
      "dataset_Es\\misoginia_Es, 0.995467, 0.995439, 0.995498\n",
      "dataset_Es\\misoginia_Es, 0.768603, 0.768505, 0.769127\n",
      "dataset_Es\\misoginia_Es, 0.765625, 0.765538, 0.765997\n",
      "dataset_Es\\misoginia_Es, 0.995467, 0.995439, 0.995498\n",
      "dataset_Es\\misoginia_Es, 0.996978, 0.996978, 0.996978\n",
      "dataset_Es\\misoginia_Es, 0.996978, 0.996978, 0.996978\n",
      "dataset_Es\\semeval2018_anger_Es, 0.385904, 0.448184, 0.376525\n",
      "dataset_Es\\semeval2018_anger_Es, 0.393985, 0.449667, 0.375073\n",
      "dataset_Es\\semeval2018_anger_Es, 0.365993, 0.431010, 0.356011\n",
      "dataset_Es\\semeval2018_anger_Es, 0.421139, 0.473958, 0.409495\n",
      "dataset_Es\\semeval2018_anger_Es, 0.382770, 0.433776, 0.369310\n",
      "dataset_Es\\semeval2018_anger_Es, 0.374423, 0.451890, 0.365732\n",
      "dataset_Es\\semeval2018_anger_Es, 0.425407, 0.488151, 0.409410\n",
      "dataset_Es\\semeval2018_anger_Es, 0.381610, 0.449376, 0.373957\n",
      "dataset_Es\\semeval2018_anger_Es, 0.404003, 0.476684, 0.387627\n",
      "dataset_Es\\semeval2018_anger_Es, 0.415212, 0.468841, 0.401817\n",
      "dataset_Es\\tass2016_Es, 0.551641, 0.554238, 0.554570\n",
      "dataset_Es\\tass2016_Es, 0.552741, 0.559991, 0.561118\n",
      "dataset_Es\\tass2016_Es, 0.553998, 0.561720, 0.561268\n",
      "dataset_Es\\tass2016_Es, 0.549468, 0.556496, 0.558345\n",
      "dataset_Es\\tass2016_Es, 0.552557, 0.559173, 0.559612\n",
      "dataset_Es\\tass2016_Es, 0.549429, 0.556665, 0.558146\n",
      "dataset_Es\\tass2016_Es, 0.550466, 0.558175, 0.559807\n",
      "dataset_Es\\tass2016_Es, 0.561986, 0.572706, 0.568185\n",
      "dataset_Es\\tass2016_Es, 0.549367, 0.558110, 0.559463\n",
      "dataset_Es\\tass2016_Es, 0.549747, 0.558689, 0.559814\n",
      "dataset_Es\\tass2017_Es, 0.359372, 0.363394, 0.366199\n",
      "dataset_Es\\tass2017_Es, 0.366281, 0.374049, 0.369752\n",
      "dataset_Es\\tass2017_Es, 0.357314, 0.365622, 0.361409\n",
      "dataset_Es\\tass2017_Es, 0.380411, 0.387522, 0.387816\n",
      "dataset_Es\\tass2017_Es, 0.371629, 0.380527, 0.373568\n",
      "dataset_Es\\tass2017_Es, 0.361682, 0.369147, 0.362975\n",
      "dataset_Es\\tass2017_Es, 0.383416, 0.391906, 0.388353\n",
      "dataset_Es\\tass2017_Es, 0.380855, 0.390331, 0.382194\n",
      "dataset_Es\\tass2017_Es, 0.381403, 0.393999, 0.388609\n",
      "dataset_Es\\tass2017_Es, 0.346105, 0.360990, 0.343511\n"
     ]
    }
   ],
   "source": [
    "for p in P:\n",
    "    print(\"{0}, {1:1.6f}, {2:1.6f}, {3:1.6f}\".format(p[0], p[1], p[2], p[3])) "
   ]
  },
  {
   "cell_type": "code",
   "execution_count": 6,
   "id": "a1c72edc-5221-4483-809b-4cbbc96a7993",
   "metadata": {},
   "outputs": [],
   "source": [
    "from microtc.utils import save_model\n",
    "save_model(P, \"evomsa_table_4_pretrained_10_datasets.array\")"
   ]
  },
  {
   "cell_type": "code",
   "execution_count": 42,
   "id": "ecad77aa-f695-4301-a23f-ce058412df6c",
   "metadata": {},
   "outputs": [
    {
     "data": {
      "text/plain": [
       "31    Si no me puedo comer el camote de nishinoya, n...\n",
       "42    No mames Yeye yo si amé tu álbum pero perdónam...\n",
       "34    @USUARIO @USUARIO Jajaja ya vez como eres como...\n",
       "52    Mi madre me enseñó durante nueve meses que no ...\n",
       "56    Todos los días tengo que llegar a un lugar don...\n",
       "Name: text, dtype: object"
      ]
     },
     "execution_count": 42,
     "metadata": {},
     "output_type": "execute_result"
    }
   ],
   "source": [
    "X_test.head()save_model"
   ]
  },
  {
   "cell_type": "code",
   "execution_count": 7,
   "id": "69f5fbe5-6f95-4b2b-99dd-94d5526aaba4",
   "metadata": {},
   "outputs": [],
   "source": [
    "test = load_model( \"evomsa_table_4_pretrained_10_datasets.array\")\n"
   ]
  },
  {
   "cell_type": "code",
   "execution_count": 8,
   "id": "2f210ab6-ff70-4f9a-9513-fa4e6a413101",
   "metadata": {},
   "outputs": [
    {
     "name": "stdout",
     "output_type": "stream",
     "text": [
      "dataset_Es\\haha2018_Es, 0.843802, 0.845808, 0.841989\n",
      "dataset_Es\\haha2018_Es, 0.845643, 0.846932, 0.844434\n",
      "dataset_Es\\haha2018_Es, 0.967152, 0.965281, 0.969134\n",
      "dataset_Es\\haha2018_Es, 0.843757, 0.845660, 0.842029\n",
      "dataset_Es\\haha2018_Es, 0.845238, 0.846836, 0.843762\n",
      "dataset_Es\\haha2018_Es, 0.967101, 0.964539, 0.969874\n",
      "dataset_Es\\haha2018_Es, 0.966905, 0.965382, 0.968503\n",
      "dataset_Es\\haha2018_Es, 0.968010, 0.966760, 0.969309\n",
      "dataset_Es\\haha2018_Es, 0.968562, 0.967449, 0.969713\n",
      "dataset_Es\\haha2018_Es, 0.967172, 0.965578, 0.968846\n",
      "dataset_Es\\meoffendes2021_mx_Es, 0.737258, 0.735195, 0.739501\n",
      "dataset_Es\\meoffendes2021_mx_Es, 0.739001, 0.735341, 0.743243\n",
      "dataset_Es\\meoffendes2021_mx_Es, 0.737785, 0.736173, 0.739506\n",
      "dataset_Es\\meoffendes2021_mx_Es, 0.758801, 0.761618, 0.756253\n",
      "dataset_Es\\meoffendes2021_mx_Es, 0.739657, 0.737574, 0.741923\n",
      "dataset_Es\\meoffendes2021_mx_Es, 0.735918, 0.734772, 0.737118\n",
      "dataset_Es\\meoffendes2021_mx_Es, 0.757395, 0.759940, 0.755073\n",
      "dataset_Es\\meoffendes2021_mx_Es, 0.735509, 0.735050, 0.735977\n",
      "dataset_Es\\meoffendes2021_mx_Es, 0.754580, 0.755330, 0.753851\n",
      "dataset_Es\\meoffendes2021_mx_Es, 0.753633, 0.754629, 0.752672\n",
      "dataset_Es\\mexa3t2018_aggress_Es, 0.780528, 0.787184, 0.776531\n",
      "dataset_Es\\mexa3t2018_aggress_Es, 0.780052, 0.788608, 0.775732\n",
      "dataset_Es\\mexa3t2018_aggress_Es, 0.783974, 0.791249, 0.779790\n",
      "dataset_Es\\mexa3t2018_aggress_Es, 0.993609, 0.994463, 0.992778\n",
      "dataset_Es\\mexa3t2018_aggress_Es, 0.780686, 0.787616, 0.776621\n",
      "dataset_Es\\mexa3t2018_aggress_Es, 0.781859, 0.789496, 0.777634\n",
      "dataset_Es\\mexa3t2018_aggress_Es, 0.992789, 0.992150, 0.993440\n",
      "dataset_Es\\mexa3t2018_aggress_Es, 0.783269, 0.790665, 0.779069\n",
      "dataset_Es\\mexa3t2018_aggress_Es, 0.992005, 0.992430, 0.991585\n",
      "dataset_Es\\mexa3t2018_aggress_Es, 0.992801, 0.993014, 0.992590\n",
      "dataset_Es\\misoginia_Es, 0.761190, 0.761141, 0.761294\n",
      "dataset_Es\\misoginia_Es, 0.771465, 0.771363, 0.772590\n",
      "dataset_Es\\misoginia_Es, 0.768552, 0.768450, 0.769249\n",
      "dataset_Es\\misoginia_Es, 0.762683, 0.762625, 0.762829\n",
      "dataset_Es\\misoginia_Es, 0.995467, 0.995439, 0.995498\n",
      "dataset_Es\\misoginia_Es, 0.768603, 0.768505, 0.769127\n",
      "dataset_Es\\misoginia_Es, 0.765625, 0.765538, 0.765997\n",
      "dataset_Es\\misoginia_Es, 0.995467, 0.995439, 0.995498\n",
      "dataset_Es\\misoginia_Es, 0.996978, 0.996978, 0.996978\n",
      "dataset_Es\\misoginia_Es, 0.996978, 0.996978, 0.996978\n",
      "dataset_Es\\semeval2018_anger_Es, 0.385904, 0.448184, 0.376525\n",
      "dataset_Es\\semeval2018_anger_Es, 0.393985, 0.449667, 0.375073\n",
      "dataset_Es\\semeval2018_anger_Es, 0.365993, 0.431010, 0.356011\n",
      "dataset_Es\\semeval2018_anger_Es, 0.421139, 0.473958, 0.409495\n",
      "dataset_Es\\semeval2018_anger_Es, 0.382770, 0.433776, 0.369310\n",
      "dataset_Es\\semeval2018_anger_Es, 0.374423, 0.451890, 0.365732\n",
      "dataset_Es\\semeval2018_anger_Es, 0.425407, 0.488151, 0.409410\n",
      "dataset_Es\\semeval2018_anger_Es, 0.381610, 0.449376, 0.373957\n",
      "dataset_Es\\semeval2018_anger_Es, 0.404003, 0.476684, 0.387627\n",
      "dataset_Es\\semeval2018_anger_Es, 0.415212, 0.468841, 0.401817\n",
      "dataset_Es\\tass2016_Es, 0.551641, 0.554238, 0.554570\n",
      "dataset_Es\\tass2016_Es, 0.552741, 0.559991, 0.561118\n",
      "dataset_Es\\tass2016_Es, 0.553998, 0.561720, 0.561268\n",
      "dataset_Es\\tass2016_Es, 0.549468, 0.556496, 0.558345\n",
      "dataset_Es\\tass2016_Es, 0.552557, 0.559173, 0.559612\n",
      "dataset_Es\\tass2016_Es, 0.549429, 0.556665, 0.558146\n",
      "dataset_Es\\tass2016_Es, 0.550466, 0.558175, 0.559807\n",
      "dataset_Es\\tass2016_Es, 0.561986, 0.572706, 0.568185\n",
      "dataset_Es\\tass2016_Es, 0.549367, 0.558110, 0.559463\n",
      "dataset_Es\\tass2016_Es, 0.549747, 0.558689, 0.559814\n",
      "dataset_Es\\tass2017_Es, 0.359372, 0.363394, 0.366199\n",
      "dataset_Es\\tass2017_Es, 0.366281, 0.374049, 0.369752\n",
      "dataset_Es\\tass2017_Es, 0.357314, 0.365622, 0.361409\n",
      "dataset_Es\\tass2017_Es, 0.380411, 0.387522, 0.387816\n",
      "dataset_Es\\tass2017_Es, 0.371629, 0.380527, 0.373568\n",
      "dataset_Es\\tass2017_Es, 0.361682, 0.369147, 0.362975\n",
      "dataset_Es\\tass2017_Es, 0.383416, 0.391906, 0.388353\n",
      "dataset_Es\\tass2017_Es, 0.380855, 0.390331, 0.382194\n",
      "dataset_Es\\tass2017_Es, 0.381403, 0.393999, 0.388609\n",
      "dataset_Es\\tass2017_Es, 0.346105, 0.360990, 0.343511\n"
     ]
    }
   ],
   "source": [
    "for p in test:\n",
    "    print(\"{0}, {1:1.6f}, {2:1.6f}, {3:1.6f}\".format(p[0], p[1], p[2], p[3])) "
   ]
  },
  {
   "cell_type": "code",
   "execution_count": null,
   "id": "76ad28d4-8f0a-4fa7-83bf-374b44b9f1cf",
   "metadata": {},
   "outputs": [],
   "source": []
  }
 ],
 "metadata": {
  "kernelspec": {
   "display_name": "Python 3 (ipykernel)",
   "language": "python",
   "name": "python3"
  },
  "language_info": {
   "codemirror_mode": {
    "name": "ipython",
    "version": 3
   },
   "file_extension": ".py",
   "mimetype": "text/x-python",
   "name": "python",
   "nbconvert_exporter": "python",
   "pygments_lexer": "ipython3",
   "version": "3.9.12"
  },
  "toc-autonumbering": true,
  "toc-showmarkdowntxt": true
 },
 "nbformat": 4,
 "nbformat_minor": 5
}
