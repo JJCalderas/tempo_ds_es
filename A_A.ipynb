{
 "cells": [
  {
   "cell_type": "markdown",
   "id": "663d252c-a371-4f07-a1d1-c2711700ec9b",
   "metadata": {},
   "source": [
    "### A_A   Humor_DS con  Humor_PreModel\n",
    "\n",
    "- Probando/Garantizando que el EvoMSA da 1 (100%) cuando el PreModelo es el mismo que el DataSet\n",
    "- No importa que otros DSs se le agreguen o no, si se contiene a si mismo se cumple el 1 \n"
   ]
  },
  {
   "cell_type": "code",
   "execution_count": 1,
   "id": "895e6860-cfc1-4088-80f0-90733e67f4f0",
   "metadata": {
    "tags": []
   },
   "outputs": [],
   "source": [
    "import pandas as pd\n",
    "import numpy as np\n",
    "from glob import glob\n",
    "from EvoMSA.base import EvoMSA\n",
    "from microtc.utils import load_model\n",
    "from sklearn import metrics\n",
    "\n",
    "from  threading import Thread\n",
    "from time import sleep, perf_counter"
   ]
  },
  {
   "cell_type": "code",
   "execution_count": 2,
   "id": "b73c8684-88a9-4633-9c20-6ea7fa788b97",
   "metadata": {
    "tags": []
   },
   "outputs": [
    {
     "name": "stdout",
     "output_type": "stream",
     "text": [
      "1.3.6\n"
     ]
    }
   ],
   "source": [
    "from EvoMSA import __version__ as version\n",
    "print(version)"
   ]
  },
  {
   "cell_type": "code",
   "execution_count": null,
   "id": "c88fd066-b61c-4e78-bc6f-bf4627a7878d",
   "metadata": {
    "tags": []
   },
   "outputs": [],
   "source": [
    "haha21 = [load_model('../../single_models/haha21_single_Es.evomsa'), \"sklearn.svm.LinearSVC\"]\n",
    "meoffendes21 = [load_model('../../single_models/meoffendes21_single_Es.evomsa'), \"sklearn.svm.LinearSVC\"]\n",
    "misogyny = [load_model('../../single_models/misogyny_single_Es.evomsa'), \"sklearn.svm.LinearSVC\"]\n",
    "exist21 = [load_model('../../single_models/exist21_single_Es.evomsa'), \"sklearn.svm.LinearSVC\"]\n",
    "\n",
    "pre_models = [\n",
    "    [],\n",
    "    [haha21],\n",
    "    [haha21, meoffendes21],\n",
    "    [haha21, exist21],\n",
    "    [exist21, haha21, meoffendes21],\n",
    "    [exist21],\n",
    "    [meoffendes21],\n",
    "    [meoffendes21, haha21], # probar si el orden afecta\n",
    "    [misogyny]\n",
    "]\n",
    "\n",
    "fnames = glob(\"../haha2021_Es_train.json\")\n",
    "fnames.sort()\n",
    "\n",
    "results = []\n",
    "\n",
    "start_time = perf_counter()\n",
    "\n",
    "for fn in fnames:\n",
    "    \n",
    "    train_df = pd.read_json(fn, lines=True)\n",
    "    test_df = pd.read_json(fn.replace(\"_train\", \"_test\"), lines=True)\n",
    "\n",
    "    # recortarlos\n",
    "    #train_df = train_df.loc[0:29, ['text', 'klass']]\n",
    "    #test_df = test_df.loc[0:9, ['text', 'klass']]\n",
    "\n",
    "    X_train = train_df[['text']]\n",
    "    y_train = train_df[['klass']]\n",
    "    \n",
    "    X_test = test_df[['text']]\n",
    "    y_test = test_df[['klass']]\n",
    "    \n",
    "    ds_n = fn.replace(\"..\\\\\",'').replace('_Es_train.json','')\n",
    "    \n",
    "    print(ds_n)\n",
    "    \n",
    "    cc = 1\n",
    "    for m in pre_models:\n",
    "        \n",
    "        print(m)\n",
    "        evo = EvoMSA(TR=True, B4MSA=True, lang='es', Emo=True, models=m)\n",
    "        evo.fit(X_train.squeeze(), y_train.squeeze())\n",
    "\n",
    "        pred = evo.predict(X_test.squeeze())\n",
    "        f1 = metrics.f1_score(y_test, pred, average=\"macro\")\n",
    "        recall = metrics.recall_score(pred, y_test, average=\"macro\")\n",
    "        \n",
    "        results.append([cc, m, f1, recall])\n",
    "        cc=cc+1\n",
    "        \n",
    "end_time = perf_counter()\n",
    "print(f'It took {end_time- start_time: 0.2f} second(s) to complete.')\n"
   ]
  },
  {
   "cell_type": "markdown",
   "id": "7e716fa7-0022-4e29-91ef-0df14d5bdd97",
   "metadata": {},
   "source": [
    "- [exist21] -> 0.8361524610601698\n",
    "- [exist21, meoffendes21] -> 0.8361833208302516"
   ]
  },
  {
   "cell_type": "code",
   "execution_count": 5,
   "id": "e704c8fc-6cf1-4457-aa8c-6134d3964916",
   "metadata": {},
   "outputs": [
    {
     "name": "stdout",
     "output_type": "stream",
     "text": [
      "[1, [], 0.825799522940719, 0.8237754770416454]\n",
      "[2, [[<EvoMSA.base.EvoMSA object at 0x00000243A4FF1130>, 'sklearn.svm.LinearSVC']], 0.82763426201574, 0.8274989945085648]\n",
      "[3, [[<EvoMSA.base.EvoMSA object at 0x00000243A4FF1130>, 'sklearn.svm.LinearSVC'], [<EvoMSA.base.EvoMSA object at 0x000002439FCF4130>, 'sklearn.svm.LinearSVC']], 0.8280692614371972, 0.8288126426799652]\n",
      "[4, [[<EvoMSA.base.EvoMSA object at 0x00000243A4FF1130>, 'sklearn.svm.LinearSVC'], [<EvoMSA.base.EvoMSA object at 0x000002439FCF9670>, 'sklearn.svm.LinearSVC']], 0.8270430553775756, 0.8266969786808109]\n",
      "[5, [[<EvoMSA.base.EvoMSA object at 0x000002439FCF9670>, 'sklearn.svm.LinearSVC'], [<EvoMSA.base.EvoMSA object at 0x00000243A4FF1130>, 'sklearn.svm.LinearSVC'], [<EvoMSA.base.EvoMSA object at 0x000002439FCF4130>, 'sklearn.svm.LinearSVC']], 0.8282542675857936, 0.8282816615452474]\n",
      "[6, [[<EvoMSA.base.EvoMSA object at 0x000002439FCF9670>, 'sklearn.svm.LinearSVC']], 0.8281444556554707, 0.8268071846429726]\n",
      "[7, [[<EvoMSA.base.EvoMSA object at 0x000002439FCF4130>, 'sklearn.svm.LinearSVC']], 0.8279569892473119, 0.8263606803856058]\n",
      "[8, [[<EvoMSA.base.EvoMSA object at 0x000002439FCF4130>, 'sklearn.svm.LinearSVC'], [<EvoMSA.base.EvoMSA object at 0x00000243A4FF1130>, 'sklearn.svm.LinearSVC']], 0.8297087171446138, 0.8311077434986462]\n",
      "[9, [[<EvoMSA.base.EvoMSA object at 0x000002439FCF4370>, 'sklearn.svm.LinearSVC']], 0.8272274548216182, 0.8256771137148491]\n"
     ]
    }
   ],
   "source": [
    "for _ in results:\n",
    "    print(_)"
   ]
  },
  {
   "cell_type": "code",
   "execution_count": 10,
   "id": "9036de19-168c-41a9-9fc4-13141526d9a9",
   "metadata": {},
   "outputs": [],
   "source": [
    "#from microtc.utils import save_model\n",
    "#save_model(results, '../results/resullts_A_A_01.metrics')"
   ]
  },
  {
   "cell_type": "code",
   "execution_count": 9,
   "id": "d73163a6-7c53-452c-a67e-e5ad23795671",
   "metadata": {},
   "outputs": [
    {
     "data": {
      "text/html": [
       "<div>\n",
       "<style scoped>\n",
       "    .dataframe tbody tr th:only-of-type {\n",
       "        vertical-align: middle;\n",
       "    }\n",
       "\n",
       "    .dataframe tbody tr th {\n",
       "        vertical-align: top;\n",
       "    }\n",
       "\n",
       "    .dataframe thead th {\n",
       "        text-align: right;\n",
       "    }\n",
       "</style>\n",
       "<table border=\"1\" class=\"dataframe\">\n",
       "  <thead>\n",
       "    <tr style=\"text-align: right;\">\n",
       "      <th></th>\n",
       "      <th>Combinacion</th>\n",
       "      <th>pre-models</th>\n",
       "      <th>f1</th>\n",
       "      <th>recall</th>\n",
       "    </tr>\n",
       "  </thead>\n",
       "  <tbody>\n",
       "    <tr>\n",
       "      <th>0</th>\n",
       "      <td>1</td>\n",
       "      <td>[]</td>\n",
       "      <td>0.825800</td>\n",
       "      <td>0.823775</td>\n",
       "    </tr>\n",
       "    <tr>\n",
       "      <th>1</th>\n",
       "      <td>2</td>\n",
       "      <td>[[&lt;EvoMSA.base.EvoMSA object at 0x000002438000...</td>\n",
       "      <td>0.827634</td>\n",
       "      <td>0.827499</td>\n",
       "    </tr>\n",
       "    <tr>\n",
       "      <th>2</th>\n",
       "      <td>3</td>\n",
       "      <td>[[&lt;EvoMSA.base.EvoMSA object at 0x000002438000...</td>\n",
       "      <td>0.828069</td>\n",
       "      <td>0.828813</td>\n",
       "    </tr>\n",
       "    <tr>\n",
       "      <th>3</th>\n",
       "      <td>4</td>\n",
       "      <td>[[&lt;EvoMSA.base.EvoMSA object at 0x000002438000...</td>\n",
       "      <td>0.827043</td>\n",
       "      <td>0.826697</td>\n",
       "    </tr>\n",
       "    <tr>\n",
       "      <th>4</th>\n",
       "      <td>5</td>\n",
       "      <td>[[&lt;EvoMSA.base.EvoMSA object at 0x00000243F218...</td>\n",
       "      <td>0.828254</td>\n",
       "      <td>0.828282</td>\n",
       "    </tr>\n",
       "    <tr>\n",
       "      <th>5</th>\n",
       "      <td>6</td>\n",
       "      <td>[[&lt;EvoMSA.base.EvoMSA object at 0x00000243F218...</td>\n",
       "      <td>0.828144</td>\n",
       "      <td>0.826807</td>\n",
       "    </tr>\n",
       "    <tr>\n",
       "      <th>6</th>\n",
       "      <td>7</td>\n",
       "      <td>[[&lt;EvoMSA.base.EvoMSA object at 0x00000243EC1B...</td>\n",
       "      <td>0.827957</td>\n",
       "      <td>0.826361</td>\n",
       "    </tr>\n",
       "    <tr>\n",
       "      <th>7</th>\n",
       "      <td>8</td>\n",
       "      <td>[[&lt;EvoMSA.base.EvoMSA object at 0x00000243EC1B...</td>\n",
       "      <td>0.829709</td>\n",
       "      <td>0.831108</td>\n",
       "    </tr>\n",
       "    <tr>\n",
       "      <th>8</th>\n",
       "      <td>9</td>\n",
       "      <td>[[&lt;EvoMSA.base.EvoMSA object at 0x000002440616...</td>\n",
       "      <td>0.827227</td>\n",
       "      <td>0.825677</td>\n",
       "    </tr>\n",
       "  </tbody>\n",
       "</table>\n",
       "</div>"
      ],
      "text/plain": [
       "   Combinacion                                         pre-models        f1  \\\n",
       "0            1                                                 []  0.825800   \n",
       "1            2  [[<EvoMSA.base.EvoMSA object at 0x000002438000...  0.827634   \n",
       "2            3  [[<EvoMSA.base.EvoMSA object at 0x000002438000...  0.828069   \n",
       "3            4  [[<EvoMSA.base.EvoMSA object at 0x000002438000...  0.827043   \n",
       "4            5  [[<EvoMSA.base.EvoMSA object at 0x00000243F218...  0.828254   \n",
       "5            6  [[<EvoMSA.base.EvoMSA object at 0x00000243F218...  0.828144   \n",
       "6            7  [[<EvoMSA.base.EvoMSA object at 0x00000243EC1B...  0.827957   \n",
       "7            8  [[<EvoMSA.base.EvoMSA object at 0x00000243EC1B...  0.829709   \n",
       "8            9  [[<EvoMSA.base.EvoMSA object at 0x000002440616...  0.827227   \n",
       "\n",
       "     recall  \n",
       "0  0.823775  \n",
       "1  0.827499  \n",
       "2  0.828813  \n",
       "3  0.826697  \n",
       "4  0.828282  \n",
       "5  0.826807  \n",
       "6  0.826361  \n",
       "7  0.831108  \n",
       "8  0.825677  "
      ]
     },
     "execution_count": 9,
     "metadata": {},
     "output_type": "execute_result"
    }
   ],
   "source": [
    "lst = load_model('../results/resullts_A_A_01.metrics')\n",
    "df = pd.DataFrame(lst, columns=['Combinacion', 'pre-models', 'f1', 'recall'])\n",
    "df"
   ]
  },
  {
   "cell_type": "code",
   "execution_count": null,
   "id": "64ddc288-9360-4a83-b937-027434560f6e",
   "metadata": {},
   "outputs": [],
   "source": []
  }
 ],
 "metadata": {
  "kernelspec": {
   "display_name": "Python 3 (ipykernel)",
   "language": "python",
   "name": "python3"
  },
  "language_info": {
   "codemirror_mode": {
    "name": "ipython",
    "version": 3
   },
   "file_extension": ".py",
   "mimetype": "text/x-python",
   "name": "python",
   "nbconvert_exporter": "python",
   "pygments_lexer": "ipython3",
   "version": "3.9.12"
  }
 },
 "nbformat": 4,
 "nbformat_minor": 5
}
