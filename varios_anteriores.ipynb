{
 "cells": [
  {
   "cell_type": "markdown",
   "id": "d405cf38-0935-40a0-aaee-2a455caa152f",
   "metadata": {},
   "source": [
    "### Varios\n",
    "\n",
    "### Convertir los datasets de las competencias a json y separarlos 75/25 train/test\n",
    "- Se crea el modelo evomsa pre-entrenado haha2021_Es.evomsa\n",
    "- En Single f1_score_macro  = 0.823913749710607\n",
    "- En Muliple f1_score_macro = \n",
    "  - haha2018, mexa3t, misoginia + exist21_model\n",
    "- En Muliple f1_score_macro = \n",
    "  - mexa3t, misoginia + exist21_model\n",
    "- La mejora es apenas 0"
   ]
  },
  {
   "cell_type": "code",
   "execution_count": 1,
   "id": "45ff4d15-b685-4e99-9bd1-30083c2a7f77",
   "metadata": {},
   "outputs": [],
   "source": [
    "import pandas as pd\n",
    "import numpy as np\n",
    "\n",
    "pd.set_option('display.max_colwidth', None)"
   ]
  },
  {
   "cell_type": "code",
   "execution_count": 3,
   "id": "d52db952-a7e8-4928-b113-90576f16ff14",
   "metadata": {},
   "outputs": [],
   "source": [
    "df = pd.read_csv(\"../FakeDeS2021_train.csv\", usecols=['Text', 'Category']) #,   header=0, nrows=50)# , nrows=30, header=1)\n",
    "df.rename(columns = {'Category':'klass', 'Text':'text'}, inplace = True)\n",
    "df[\"klass\"] = np.where(df[\"klass\"] == 'True', 0, 1)"
   ]
  },
  {
   "cell_type": "code",
   "execution_count": 5,
   "id": "3798baf7-8619-412e-8e4e-05cca3dea1a0",
   "metadata": {},
   "outputs": [
    {
     "data": {
      "text/plain": [
       "((507,), (169,), (507,), (169,))"
      ]
     },
     "execution_count": 5,
     "metadata": {},
     "output_type": "execute_result"
    }
   ],
   "source": [
    "from sklearn.model_selection import train_test_split\n",
    "\n",
    "X_train, X_test, y_train, y_test = train_test_split(df['text'], df['klass'], train_size=0.75)\n",
    "X_train.shape, X_test.shape, y_train.shape, y_test.shape"
   ]
  },
  {
   "cell_type": "code",
   "execution_count": 2,
   "id": "f69e9bab-a678-4e1c-8bba-0281f367f45d",
   "metadata": {},
   "outputs": [],
   "source": [
    "df_train = pd.read_json('../mexa3t2018_aggress_Es_train.json', lines=True)\n",
    "df_train = df_train[[\"text\", \"klass\"]]\n",
    "df_test = pd.read_json('../mexa3t2018_aggress_Es_test.json', lines=True)\n",
    "df_test = df_test[[\"text\", \"klass\"]]"
   ]
  },
  {
   "cell_type": "code",
   "execution_count": 3,
   "id": "6f82ced9-b9d9-4261-81ef-55961bc36ea3",
   "metadata": {},
   "outputs": [
    {
     "data": {
      "text/plain": [
       "array([0, 1], dtype=int64)"
      ]
     },
     "execution_count": 3,
     "metadata": {},
     "output_type": "execute_result"
    }
   ],
   "source": [
    "np.unique(df_train['klass'])\n",
    "# 1 es humor\n",
    "# 0 No es humor"
   ]
  },
  {
   "cell_type": "code",
   "execution_count": 50,
   "id": "9afbef7e-8152-4d43-a302-789eedb32c46",
   "metadata": {},
   "outputs": [
    {
     "data": {
      "text/plain": [
       "array([0, 1])"
      ]
     },
     "execution_count": 50,
     "metadata": {},
     "output_type": "execute_result"
    }
   ],
   "source": [
    "# \n",
    "#df_train[\"klass\"] = np.where(df_train[\"klass\"] == 'N', 1, 0)\n",
    "#df_test[\"klass\"] = np.where(df_test[\"klass\"] !=0, 1, 0)\n",
    "#np.unique(df_train['klass'])"
   ]
  },
  {
   "cell_type": "code",
   "execution_count": 4,
   "id": "ad96d723-60ec-41d5-80b6-d87116c2d589",
   "metadata": {},
   "outputs": [
    {
     "name": "stdout",
     "output_type": "stream",
     "text": [
      "(5389, 2) (2311, 2)\n"
     ]
    }
   ],
   "source": [
    "print(df_train.shape, df_test.shape)"
   ]
  },
  {
   "cell_type": "code",
   "execution_count": 5,
   "id": "76af0c04-94db-4c39-a9d4-7e83b8db64b5",
   "metadata": {},
   "outputs": [
    {
     "data": {
      "text/html": [
       "<div>\n",
       "<style scoped>\n",
       "    .dataframe tbody tr th:only-of-type {\n",
       "        vertical-align: middle;\n",
       "    }\n",
       "\n",
       "    .dataframe tbody tr th {\n",
       "        vertical-align: top;\n",
       "    }\n",
       "\n",
       "    .dataframe thead th {\n",
       "        text-align: right;\n",
       "    }\n",
       "</style>\n",
       "<table border=\"1\" class=\"dataframe\">\n",
       "  <thead>\n",
       "    <tr style=\"text-align: right;\">\n",
       "      <th></th>\n",
       "      <th>text</th>\n",
       "      <th>klass</th>\n",
       "    </tr>\n",
       "  </thead>\n",
       "  <tbody>\n",
       "    <tr>\n",
       "      <th>0</th>\n",
       "      <td>Que putas se supone que haga si Sam S y coldplay solo irán a cdmx ya que gasté mas de 10,000 pesos en puros boletos de este año y del 18'</td>\n",
       "      <td>0</td>\n",
       "    </tr>\n",
       "    <tr>\n",
       "      <th>1</th>\n",
       "      <td>#NoEsPosibleQue yo vuleva a caer dos veces , naaa ni q tuvieras tanta suerte!</td>\n",
       "      <td>0</td>\n",
       "    </tr>\n",
       "    <tr>\n",
       "      <th>2</th>\n",
       "      <td>Se pasaron de verga la cague muy feo en el gold xdd izi win era</td>\n",
       "      <td>0</td>\n",
       "    </tr>\n",
       "    <tr>\n",
       "      <th>3</th>\n",
       "      <td>me recomendó mucho este libro de fotos sobre los 10 años de la marcha marica en Chile y hoy por fin lo co…</td>\n",
       "      <td>0</td>\n",
       "    </tr>\n",
       "    <tr>\n",
       "      <th>4</th>\n",
       "      <td>HIJOS DE LA CHINGADA PARA SUS PUTOS FESTIVALES RUIDOSOS E ILEGALES SI TIENEN MADRE NO?A LA CARCEL ZULEYMA Y MONRATA</td>\n",
       "      <td>1</td>\n",
       "    </tr>\n",
       "    <tr>\n",
       "      <th>...</th>\n",
       "      <td>...</td>\n",
       "      <td>...</td>\n",
       "    </tr>\n",
       "    <tr>\n",
       "      <th>5384</th>\n",
       "      <td>Virtudes de los políticos;Idiotas,Rateros,Sin Sesos,Rateros,Cinicos y no festejan el 10 mayo por no tener Madre chulada de espécimen. &lt;URL&gt;</td>\n",
       "      <td>1</td>\n",
       "    </tr>\n",
       "    <tr>\n",
       "      <th>5385</th>\n",
       "      <td>@USUARIO @USUARIO El video es tomado en la calle principal: Santa Madre De Dios y abarca el tramo señalado</td>\n",
       "      <td>0</td>\n",
       "    </tr>\n",
       "    <tr>\n",
       "      <th>5386</th>\n",
       "      <td>Los maestros siempre vienen conmigo a hablar mal de otros maestros. Los niños, a decirme quién les gusta. Mi única respuesta: ME VALE VERGA.</td>\n",
       "      <td>1</td>\n",
       "    </tr>\n",
       "    <tr>\n",
       "      <th>5387</th>\n",
       "      <td>Tiran a dar como un puñal tus palabras en mi ombligo. Tú estas loca y yo estoy loco de atar por mis celos retroactivos. 🎶🎶🎶 @luisramiromusic</td>\n",
       "      <td>0</td>\n",
       "    </tr>\n",
       "    <tr>\n",
       "      <th>5388</th>\n",
       "      <td>Necesito solo  #UnMomentoDelDiaPara valer verga todo el día 😔😭</td>\n",
       "      <td>0</td>\n",
       "    </tr>\n",
       "  </tbody>\n",
       "</table>\n",
       "<p>5389 rows × 2 columns</p>\n",
       "</div>"
      ],
      "text/plain": [
       "                                                                                                                                              text  \\\n",
       "0        Que putas se supone que haga si Sam S y coldplay solo irán a cdmx ya que gasté mas de 10,000 pesos en puros boletos de este año y del 18'   \n",
       "1                                                                    #NoEsPosibleQue yo vuleva a caer dos veces , naaa ni q tuvieras tanta suerte!   \n",
       "2                                                                                  Se pasaron de verga la cague muy feo en el gold xdd izi win era   \n",
       "3                                       me recomendó mucho este libro de fotos sobre los 10 años de la marcha marica en Chile y hoy por fin lo co…   \n",
       "4                              HIJOS DE LA CHINGADA PARA SUS PUTOS FESTIVALES RUIDOSOS E ILEGALES SI TIENEN MADRE NO?A LA CARCEL ZULEYMA Y MONRATA   \n",
       "...                                                                                                                                            ...   \n",
       "5384   Virtudes de los políticos;Idiotas,Rateros,Sin Sesos,Rateros,Cinicos y no festejan el 10 mayo por no tener Madre chulada de espécimen. <URL>   \n",
       "5385                                    @USUARIO @USUARIO El video es tomado en la calle principal: Santa Madre De Dios y abarca el tramo señalado   \n",
       "5386  Los maestros siempre vienen conmigo a hablar mal de otros maestros. Los niños, a decirme quién les gusta. Mi única respuesta: ME VALE VERGA.   \n",
       "5387  Tiran a dar como un puñal tus palabras en mi ombligo. Tú estas loca y yo estoy loco de atar por mis celos retroactivos. 🎶🎶🎶 @luisramiromusic   \n",
       "5388                                                                                Necesito solo  #UnMomentoDelDiaPara valer verga todo el día 😔😭   \n",
       "\n",
       "      klass  \n",
       "0         0  \n",
       "1         0  \n",
       "2         0  \n",
       "3         0  \n",
       "4         1  \n",
       "...     ...  \n",
       "5384      1  \n",
       "5385      0  \n",
       "5386      1  \n",
       "5387      0  \n",
       "5388      0  \n",
       "\n",
       "[5389 rows x 2 columns]"
      ]
     },
     "execution_count": 5,
     "metadata": {},
     "output_type": "execute_result"
    }
   ],
   "source": [
    "df_train"
   ]
  },
  {
   "cell_type": "code",
   "execution_count": 6,
   "id": "469e815a-2b81-4f55-97bc-38f6862c752e",
   "metadata": {},
   "outputs": [],
   "source": [
    "from EvoMSA.base import EvoMSA\n",
    "from microtc.utils import save_model\n",
    "from sklearn import metrics\n",
    "from microtc.utils import load_model\n",
    "from microtc.utils import save_model"
   ]
  },
  {
   "cell_type": "code",
   "execution_count": 7,
   "id": "2ed4c8a6-affe-4ffd-aa74-adcf67b1012c",
   "metadata": {
    "tags": []
   },
   "outputs": [],
   "source": [
    "evo = EvoMSA(TR=True, B4MSA=False, lang='es', Emo=True, Aggress=True, models=None)\n",
    "\n",
    "X_train, y_train = df_train['text'], df_train['klass']\n",
    "X_test, y_test = df_test['text'], df_test['klass']\n",
    "\n",
    "# Pq a .squeeze() ? "
   ]
  },
  {
   "cell_type": "code",
   "execution_count": 8,
   "id": "2b60f822-bc1c-4e54-b293-2c13638d7efd",
   "metadata": {},
   "outputs": [
    {
     "name": "stderr",
     "output_type": "stream",
     "text": [
      "100%|██████████| 3/3 [00:21<00:00,  7.08s/it]\n",
      "100%|██████████| 5/5 [00:01<00:00,  4.78it/s]\n",
      "100%|██████████| 5/5 [00:00<00:00, 22.87it/s]\n",
      "100%|██████████| 5/5 [00:00<00:00, 160.04it/s]\n",
      "100%|██████████| 30/30 [09:05<00:00, 18.19s/it]\n",
      "100%|██████████| 3/3 [00:11<00:00,  3.96s/it]\n",
      "100%|██████████| 3/3 [00:00<00:00, 211.50it/s]\n",
      "100%|██████████| 30/30 [00:06<00:00,  4.41it/s]"
     ]
    },
    {
     "name": "stdout",
     "output_type": "stream",
     "text": [
      "0.7806387046501216\n"
     ]
    },
    {
     "name": "stderr",
     "output_type": "stream",
     "text": [
      "\n"
     ]
    }
   ],
   "source": [
    "evo.fit(X_train.squeeze(), y_train.squeeze())\n",
    "pred = evo.predict(X_test.squeeze())\n",
    "print(metrics.f1_score(y_test, pred, average=\"macro\"))"
   ]
  },
  {
   "cell_type": "code",
   "execution_count": 9,
   "id": "2cb4bc72-7053-4682-9dc6-1f32d51cd42c",
   "metadata": {},
   "outputs": [],
   "source": [
    "# crear modelo pre-entrenado en Sigle par evitar efecto cascada\n",
    "save_model(evo, '..\\\\..\\\\single_models\\\\mexa3t2018_aggress_single_Es.evomsa') "
   ]
  },
  {
   "cell_type": "markdown",
   "id": "5797aa5f-a9a6-44d8-b68b-160eccaa835c",
   "metadata": {},
   "source": [
    "### Multiple...\n",
    "---"
   ]
  },
  {
   "cell_type": "code",
   "execution_count": 36,
   "id": "99dbe7d1-d3a4-43e6-9b9b-666954660457",
   "metadata": {},
   "outputs": [],
   "source": [
    "stacked_method = \"sklearn.svm.LinearSVC\"\n",
    "# usar = \"sklearn.naive_bayes.BernoulliNB\"\n",
    "# usar = \"sklearn.naive_bayes.MultinomialNB\"\n",
    "\n",
    "exist21_model = [load_model('../../single_models/exist21_single_Es.evomsa'), stacked_method]\n",
    "haha21_model = [load_model('../../single_models/haha21_single_Es.evomsa'), stacked_method]\n",
    "davincis22_model = [load_model('../../single_models/davincis22_single_Es.evomsa'), stacked_method]\n",
    "meoffendes21_model = [load_model('../../single_models/meoffendes21_single_Es.evomsa'), stacked_method]\n",
    "\n",
    "mm = [exist21_model, haha21_model, davincis22_model, meoffendes21_model]\n",
    "\n",
    "evo = EvoMSA(TR=True, B4MSA=False, lang='es', Emo=True, Aggress=True, stacked_method=stacked_method, models= mm)"
   ]
  },
  {
   "cell_type": "code",
   "execution_count": 37,
   "id": "2c0841d2-42b4-4999-8fce-29ef4436b861",
   "metadata": {},
   "outputs": [
    {
     "name": "stderr",
     "output_type": "stream",
     "text": [
      " 14%|█▍        | 1/7 [00:03<00:20,  3.41s/it]\n",
      "  0%|          | 0/3 [00:00<?, ?it/s]\u001b[A\n",
      " 33%|███▎      | 1/3 [00:03<00:06,  3.50s/it]\u001b[A\n",
      " 67%|██████▋   | 2/3 [00:04<00:01,  1.78s/it]\u001b[A\n",
      "100%|██████████| 3/3 [00:04<00:00,  1.48s/it]\u001b[A\n",
      "\n",
      "100%|██████████| 3/3 [00:00<00:00, 601.62it/s]\n",
      " 29%|██▊       | 2/7 [00:07<00:20,  4.03s/it]\n",
      "  0%|          | 0/3 [00:00<?, ?it/s]\u001b[A\n",
      " 33%|███▎      | 1/3 [00:03<00:06,  3.47s/it]\u001b[A\n",
      " 67%|██████▋   | 2/3 [00:04<00:01,  1.79s/it]\u001b[A\n",
      "100%|██████████| 3/3 [00:04<00:00,  1.49s/it]\u001b[A\n",
      "\n",
      "100%|██████████| 3/3 [00:00<00:00, 228.29it/s]\n",
      " 43%|████▎     | 3/7 [00:12<00:16,  4.25s/it]\n",
      "  0%|          | 0/3 [00:00<?, ?it/s]\u001b[A\n",
      " 33%|███▎      | 1/3 [00:03<00:06,  3.04s/it]\u001b[A\n",
      " 67%|██████▋   | 2/3 [00:03<00:01,  1.58s/it]\u001b[A\n",
      "100%|██████████| 3/3 [00:03<00:00,  1.33s/it]\u001b[A\n",
      "\n",
      "100%|██████████| 3/3 [00:00<00:00, 752.25it/s]\n",
      " 57%|█████▋    | 4/7 [00:16<00:12,  4.15s/it]\n",
      "  0%|          | 0/3 [00:00<?, ?it/s]\u001b[A\n",
      " 33%|███▎      | 1/3 [00:03<00:06,  3.17s/it]\u001b[A\n",
      " 67%|██████▋   | 2/3 [00:03<00:01,  1.69s/it]\u001b[A\n",
      "100%|██████████| 3/3 [00:04<00:00,  1.41s/it]\u001b[A\n",
      "\n",
      "100%|██████████| 3/3 [00:00<?, ?it/s]\u001b[A\n",
      "100%|██████████| 7/7 [00:21<00:00,  3.12s/it]\n",
      "100%|██████████| 5/5 [00:00<00:00, 21.33it/s]\n",
      "100%|██████████| 5/5 [00:00<00:00, 89.53it/s]\n",
      "100%|██████████| 5/5 [00:00<00:00, 82.10it/s]\n",
      "100%|██████████| 5/5 [00:00<00:00, 147.45it/s]\n",
      "100%|██████████| 5/5 [00:00<00:00, 192.51it/s]\n",
      "100%|██████████| 5/5 [00:00<00:00, 82.19it/s]\n",
      "100%|██████████| 5/5 [00:00<00:00, 334.24it/s]\n",
      " 14%|█▍        | 1/7 [00:01<00:08,  1.50s/it]\n",
      "  0%|          | 0/3 [00:00<?, ?it/s]\u001b[A\n",
      " 33%|███▎      | 1/3 [00:01<00:03,  1.52s/it]\u001b[A\n",
      " 67%|██████▋   | 2/3 [00:01<00:00,  1.29it/s]\u001b[A\n",
      "100%|██████████| 3/3 [00:01<00:00,  1.53it/s]\u001b[A\n",
      "\n",
      "100%|██████████| 3/3 [00:00<00:00, 752.03it/s]\n",
      " 29%|██▊       | 2/7 [00:03<00:08,  1.78s/it]\n",
      "  0%|          | 0/3 [00:00<?, ?it/s]\u001b[A\n",
      " 33%|███▎      | 1/3 [00:01<00:03,  1.65s/it]\u001b[A\n",
      " 67%|██████▋   | 2/3 [00:01<00:00,  1.21it/s]\u001b[A\n",
      "100%|██████████| 3/3 [00:02<00:00,  1.43it/s]\u001b[A\n",
      "\n",
      "100%|██████████| 3/3 [00:00<00:00, 1002.46it/s]\n",
      " 43%|████▎     | 3/7 [00:05<00:07,  1.93s/it]\n",
      "  0%|          | 0/3 [00:00<?, ?it/s]\u001b[A\n",
      " 33%|███▎      | 1/3 [00:01<00:02,  1.46s/it]\u001b[A\n",
      " 67%|██████▋   | 2/3 [00:01<00:00,  1.31it/s]\u001b[A\n",
      "100%|██████████| 3/3 [00:01<00:00,  1.56it/s]\u001b[A\n",
      "\n",
      "100%|██████████| 3/3 [00:00<00:00, 1002.94it/s]\n",
      " 57%|█████▋    | 4/7 [00:07<00:05,  1.93s/it]\n",
      "  0%|          | 0/3 [00:00<?, ?it/s]\u001b[A\n",
      " 33%|███▎      | 1/3 [00:01<00:03,  1.58s/it]\u001b[A\n",
      " 67%|██████▋   | 2/3 [00:01<00:00,  1.24it/s]\u001b[A\n",
      "100%|██████████| 3/3 [00:02<00:00,  1.48it/s]\u001b[A\n",
      "\n",
      "100%|██████████| 3/3 [00:00<00:00, 1004.46it/s]\n",
      "100%|██████████| 7/7 [00:10<00:00,  1.43s/it]\n",
      "100%|██████████| 7/7 [00:00<00:00, 1754.00it/s]\n"
     ]
    }
   ],
   "source": [
    "evo.fit(X_train.squeeze(), y_train.squeeze())\n",
    "pred = evo.predict(X_test.squeeze())"
   ]
  },
  {
   "cell_type": "code",
   "execution_count": 21,
   "id": "5cc116c6-4b19-4416-94e8-9bfc80e8aa1c",
   "metadata": {},
   "outputs": [
    {
     "name": "stdout",
     "output_type": "stream",
     "text": [
      "0.7945544328523051\n"
     ]
    }
   ],
   "source": [
    "print(metrics.f1_score(y_test, pred, average=\"macro\"))"
   ]
  },
  {
   "cell_type": "code",
   "execution_count": 21,
   "id": "766ab72e-3d4c-484f-891e-5b5dd709e450",
   "metadata": {},
   "outputs": [
    {
     "name": "stdout",
     "output_type": "stream",
     "text": [
      "0.8969856602137946\n"
     ]
    }
   ],
   "source": [
    "print(metrics.f1_score(y_test, pred, average=\"macro\"))"
   ]
  },
  {
   "cell_type": "code",
   "execution_count": 86,
   "id": "7d9c8d70-d4f1-4c64-bcac-3151880a5182",
   "metadata": {},
   "outputs": [],
   "source": [
    "# crear modelo pre-entrenado\n",
    "save_model(evo, '..\\\\..\\\\models\\\\haha2021_Es.evomsa') "
   ]
  },
  {
   "cell_type": "code",
   "execution_count": null,
   "id": "f8cd1507-2e79-455c-9658-74caa16b42d5",
   "metadata": {},
   "outputs": [],
   "source": [
    "# probarlo\n",
    "_ = load_model('..\\\\..\\\\models\\\\haha2021_Es.evomsa') \n",
    "pred = _.predict(X_test.squeeze())\n",
    "print(metrics.f1_score(y_test, pred, average=\"macro\"))"
   ]
  },
  {
   "cell_type": "code",
   "execution_count": null,
   "id": "8a5e35db-295b-47ff-8d1b-d8d0a0e67892",
   "metadata": {},
   "outputs": [],
   "source": []
  }
 ],
 "metadata": {
  "kernelspec": {
   "display_name": "Python 3 (ipykernel)",
   "language": "python",
   "name": "python3"
  },
  "language_info": {
   "codemirror_mode": {
    "name": "ipython",
    "version": 3
   },
   "file_extension": ".py",
   "mimetype": "text/x-python",
   "name": "python",
   "nbconvert_exporter": "python",
   "pygments_lexer": "ipython3",
   "version": "3.9.12"
  }
 },
 "nbformat": 4,
 "nbformat_minor": 5
}
