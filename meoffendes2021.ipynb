{
 "cells": [
  {
   "cell_type": "markdown",
   "id": "d405cf38-0935-40a0-aaee-2a455caa152f",
   "metadata": {},
   "source": [
    "### MeOffendEs 2021\n",
    "### Convertir los datasets de las competencias a json y separarlos 75/25 train/test\n",
    "- Se crea el modelo evomsa pre-entrenado exist2021_Es.evomsa\n",
    "- En Single f1_score_macro  = 0.7566480556897693\n",
    "- En Muliple f1_score_macro = \n",
    "  - haha2018, mexa3t, misoginia\n",
    "- La mejora es apenas 0.003 0.01"
   ]
  },
  {
   "cell_type": "code",
   "execution_count": 1,
   "id": "4567747b-d9e6-4dde-892e-83666d0f14bb",
   "metadata": {},
   "outputs": [],
   "source": [
    "import pandas as pd\n",
    "import numpy as np\n",
    "from sklearn.model_selection import train_test_split"
   ]
  },
  {
   "cell_type": "code",
   "execution_count": 2,
   "id": "b52d4837-108b-41b8-81c1-d8e580ac27f8",
   "metadata": {},
   "outputs": [],
   "source": [
    "# MeOffendEs2021\n",
    "\n",
    "df = pd.read_csv(\"../meoffendes2021_train-non-contextual.csv\", usecols=['text', 'klass']) #,   header=0, nrows=50)# , nrows=30, header=1)\n",
    "# df.rename(columns = {'task1':'klass'}, inplace = True)"
   ]
  },
  {
   "cell_type": "code",
   "execution_count": 3,
   "id": "e8b7943a-8be5-4df5-ae24-fb7434b2d429",
   "metadata": {},
   "outputs": [
    {
     "data": {
      "text/plain": [
       "(5060, 2)"
      ]
     },
     "execution_count": 3,
     "metadata": {},
     "output_type": "execute_result"
    }
   ],
   "source": [
    "df.shape"
   ]
  },
  {
   "cell_type": "code",
   "execution_count": 4,
   "id": "714ee9b8-8896-446f-b6b8-86aa47f45a33",
   "metadata": {},
   "outputs": [
    {
     "data": {
      "text/html": [
       "<div>\n",
       "<style scoped>\n",
       "    .dataframe tbody tr th:only-of-type {\n",
       "        vertical-align: middle;\n",
       "    }\n",
       "\n",
       "    .dataframe tbody tr th {\n",
       "        vertical-align: top;\n",
       "    }\n",
       "\n",
       "    .dataframe thead th {\n",
       "        text-align: right;\n",
       "    }\n",
       "</style>\n",
       "<table border=\"1\" class=\"dataframe\">\n",
       "  <thead>\n",
       "    <tr style=\"text-align: right;\">\n",
       "      <th></th>\n",
       "      <th>text</th>\n",
       "      <th>klass</th>\n",
       "    </tr>\n",
       "  </thead>\n",
       "  <tbody>\n",
       "    <tr>\n",
       "      <th>0</th>\n",
       "      <td>Soy el Clint Eastwood de los Puentes de Madiso...</td>\n",
       "      <td>0</td>\n",
       "    </tr>\n",
       "    <tr>\n",
       "      <th>1</th>\n",
       "      <td>Actualmente ya pasó de moda la pucha joto, aho...</td>\n",
       "      <td>1</td>\n",
       "    </tr>\n",
       "    <tr>\n",
       "      <th>2</th>\n",
       "      <td>¿Es cierto esto? Y no me refiero a lo que dijo...</td>\n",
       "      <td>0</td>\n",
       "    </tr>\n",
       "    <tr>\n",
       "      <th>3</th>\n",
       "      <td>Vuela pega y esquiva... la neta está de la ver...</td>\n",
       "      <td>0</td>\n",
       "    </tr>\n",
       "    <tr>\n",
       "      <th>4</th>\n",
       "      <td>Mejor puto disfraz de la noche!!!! 👊👊👊Por terc...</td>\n",
       "      <td>0</td>\n",
       "    </tr>\n",
       "    <tr>\n",
       "      <th>...</th>\n",
       "      <td>...</td>\n",
       "      <td>...</td>\n",
       "    </tr>\n",
       "    <tr>\n",
       "      <th>5055</th>\n",
       "      <td>@USUARIO Alv, bien salvado el pino. Sólo tengo...</td>\n",
       "      <td>0</td>\n",
       "    </tr>\n",
       "    <tr>\n",
       "      <th>5056</th>\n",
       "      <td>Verga estoy viendo que un compañero que tuve e...</td>\n",
       "      <td>0</td>\n",
       "    </tr>\n",
       "    <tr>\n",
       "      <th>5057</th>\n",
       "      <td>Firmado por toda la pandilla de @USUARIO a tod...</td>\n",
       "      <td>0</td>\n",
       "    </tr>\n",
       "    <tr>\n",
       "      <th>5058</th>\n",
       "      <td>Pinshe profe se mamo con el examen  Todavía qu...</td>\n",
       "      <td>0</td>\n",
       "    </tr>\n",
       "    <tr>\n",
       "      <th>5059</th>\n",
       "      <td>@USUARIO La piel prieta?</td>\n",
       "      <td>1</td>\n",
       "    </tr>\n",
       "  </tbody>\n",
       "</table>\n",
       "<p>5060 rows × 2 columns</p>\n",
       "</div>"
      ],
      "text/plain": [
       "                                                   text  klass\n",
       "0     Soy el Clint Eastwood de los Puentes de Madiso...      0\n",
       "1     Actualmente ya pasó de moda la pucha joto, aho...      1\n",
       "2     ¿Es cierto esto? Y no me refiero a lo que dijo...      0\n",
       "3     Vuela pega y esquiva... la neta está de la ver...      0\n",
       "4     Mejor puto disfraz de la noche!!!! 👊👊👊Por terc...      0\n",
       "...                                                 ...    ...\n",
       "5055  @USUARIO Alv, bien salvado el pino. Sólo tengo...      0\n",
       "5056  Verga estoy viendo que un compañero que tuve e...      0\n",
       "5057  Firmado por toda la pandilla de @USUARIO a tod...      0\n",
       "5058  Pinshe profe se mamo con el examen  Todavía qu...      0\n",
       "5059                           @USUARIO La piel prieta?      1\n",
       "\n",
       "[5060 rows x 2 columns]"
      ]
     },
     "execution_count": 4,
     "metadata": {},
     "output_type": "execute_result"
    }
   ],
   "source": [
    "df"
   ]
  },
  {
   "cell_type": "code",
   "execution_count": 5,
   "id": "6f82ced9-b9d9-4261-81ef-55961bc36ea3",
   "metadata": {},
   "outputs": [
    {
     "data": {
      "text/plain": [
       "array([0, 1], dtype=int64)"
      ]
     },
     "execution_count": 5,
     "metadata": {},
     "output_type": "execute_result"
    }
   ],
   "source": [
    "np.unique(df['klass'])\n",
    "# 0 es ofensivo\n",
    "# 1 No es ofensivo"
   ]
  },
  {
   "cell_type": "code",
   "execution_count": 6,
   "id": "8c33fba5-46c6-454f-8393-ae9efe0042c3",
   "metadata": {},
   "outputs": [],
   "source": [
    "# df[\"klass\"] = np.where(df[\"klass\"] == \"sexist\", 1, 0)\n",
    "# sexist = 1\n",
    "# No sexist = "
   ]
  },
  {
   "cell_type": "code",
   "execution_count": 7,
   "id": "36aca080-5cf3-49d8-ac91-0d7198007f8b",
   "metadata": {},
   "outputs": [],
   "source": [
    "#df"
   ]
  },
  {
   "cell_type": "code",
   "execution_count": 8,
   "id": "1865aa5e-6cfe-4b33-b518-e593eb071092",
   "metadata": {},
   "outputs": [
    {
     "data": {
      "text/plain": [
       "((3795,), (1265,), (3795,), (1265,))"
      ]
     },
     "execution_count": 8,
     "metadata": {},
     "output_type": "execute_result"
    }
   ],
   "source": [
    "X_train, X_test, y_train, y_test = train_test_split(df['text'], df['klass'], train_size=0.75)\n",
    "X_train.shape, X_test.shape, y_train.shape, y_test.shape"
   ]
  },
  {
   "cell_type": "code",
   "execution_count": 9,
   "id": "5f2be74b-0e12-41d4-86fd-9b9a7b661851",
   "metadata": {},
   "outputs": [
    {
     "data": {
      "text/plain": [
       "pandas.core.series.Series"
      ]
     },
     "execution_count": 9,
     "metadata": {},
     "output_type": "execute_result"
    }
   ],
   "source": [
    "type(X_train)"
   ]
  },
  {
   "cell_type": "code",
   "execution_count": 10,
   "id": "6043e2e3-7e9b-43ae-9f74-27277ea20e11",
   "metadata": {},
   "outputs": [
    {
     "name": "stdout",
     "output_type": "stream",
     "text": [
      "(3795, 2)\n"
     ]
    },
    {
     "data": {
      "text/html": [
       "<div>\n",
       "<style scoped>\n",
       "    .dataframe tbody tr th:only-of-type {\n",
       "        vertical-align: middle;\n",
       "    }\n",
       "\n",
       "    .dataframe tbody tr th {\n",
       "        vertical-align: top;\n",
       "    }\n",
       "\n",
       "    .dataframe thead th {\n",
       "        text-align: right;\n",
       "    }\n",
       "</style>\n",
       "<table border=\"1\" class=\"dataframe\">\n",
       "  <thead>\n",
       "    <tr style=\"text-align: right;\">\n",
       "      <th></th>\n",
       "      <th>text</th>\n",
       "      <th>klass</th>\n",
       "    </tr>\n",
       "  </thead>\n",
       "  <tbody>\n",
       "    <tr>\n",
       "      <th>2348</th>\n",
       "      <td>@USUARIO @USUARIO Que rico mamas el camote tie...</td>\n",
       "      <td>0</td>\n",
       "    </tr>\n",
       "    <tr>\n",
       "      <th>1944</th>\n",
       "      <td>Ampliación: La salida a final de mes del juego...</td>\n",
       "      <td>0</td>\n",
       "    </tr>\n",
       "    <tr>\n",
       "      <th>3981</th>\n",
       "      <td>!es verdad! !luis le manda un saludo a una chi...</td>\n",
       "      <td>0</td>\n",
       "    </tr>\n",
       "    <tr>\n",
       "      <th>430</th>\n",
       "      <td>Me emputa la gente ardida que se estanca y no ...</td>\n",
       "      <td>1</td>\n",
       "    </tr>\n",
       "    <tr>\n",
       "      <th>2899</th>\n",
       "      <td>No estoy loca 😜.  Mi realidad es diferente a l...</td>\n",
       "      <td>0</td>\n",
       "    </tr>\n",
       "    <tr>\n",
       "      <th>...</th>\n",
       "      <td>...</td>\n",
       "      <td>...</td>\n",
       "    </tr>\n",
       "    <tr>\n",
       "      <th>3027</th>\n",
       "      <td>Dicen que estoy loca porqué no uso chamarra co...</td>\n",
       "      <td>0</td>\n",
       "    </tr>\n",
       "    <tr>\n",
       "      <th>2433</th>\n",
       "      <td>No colega, no las conozco ¿me las podría compa...</td>\n",
       "      <td>0</td>\n",
       "    </tr>\n",
       "    <tr>\n",
       "      <th>3053</th>\n",
       "      <td>T-3horas para el DRAFT de la liga más cabrona ...</td>\n",
       "      <td>0</td>\n",
       "    </tr>\n",
       "    <tr>\n",
       "      <th>4760</th>\n",
       "      <td>Ustedes si puden andar de chanceros, pero cuid...</td>\n",
       "      <td>0</td>\n",
       "    </tr>\n",
       "    <tr>\n",
       "      <th>1459</th>\n",
       "      <td>@USUARIO Seguro lo dice pura gente ardida!!!</td>\n",
       "      <td>0</td>\n",
       "    </tr>\n",
       "  </tbody>\n",
       "</table>\n",
       "<p>3795 rows × 2 columns</p>\n",
       "</div>"
      ],
      "text/plain": [
       "                                                   text  klass\n",
       "2348  @USUARIO @USUARIO Que rico mamas el camote tie...      0\n",
       "1944  Ampliación: La salida a final de mes del juego...      0\n",
       "3981  !es verdad! !luis le manda un saludo a una chi...      0\n",
       "430   Me emputa la gente ardida que se estanca y no ...      1\n",
       "2899  No estoy loca 😜.  Mi realidad es diferente a l...      0\n",
       "...                                                 ...    ...\n",
       "3027  Dicen que estoy loca porqué no uso chamarra co...      0\n",
       "2433  No colega, no las conozco ¿me las podría compa...      0\n",
       "3053  T-3horas para el DRAFT de la liga más cabrona ...      0\n",
       "4760  Ustedes si puden andar de chanceros, pero cuid...      0\n",
       "1459       @USUARIO Seguro lo dice pura gente ardida!!!      0\n",
       "\n",
       "[3795 rows x 2 columns]"
      ]
     },
     "execution_count": 10,
     "metadata": {},
     "output_type": "execute_result"
    }
   ],
   "source": [
    "df_train = pd.concat([X_train, y_train], axis=1)\n",
    "print(df_train.shape)\n",
    "df_train"
   ]
  },
  {
   "cell_type": "code",
   "execution_count": 11,
   "id": "5eecb9da-36ce-40b7-8822-fbb6935befe5",
   "metadata": {},
   "outputs": [
    {
     "name": "stdout",
     "output_type": "stream",
     "text": [
      "(1265, 2)\n"
     ]
    },
    {
     "data": {
      "text/html": [
       "<div>\n",
       "<style scoped>\n",
       "    .dataframe tbody tr th:only-of-type {\n",
       "        vertical-align: middle;\n",
       "    }\n",
       "\n",
       "    .dataframe tbody tr th {\n",
       "        vertical-align: top;\n",
       "    }\n",
       "\n",
       "    .dataframe thead th {\n",
       "        text-align: right;\n",
       "    }\n",
       "</style>\n",
       "<table border=\"1\" class=\"dataframe\">\n",
       "  <thead>\n",
       "    <tr style=\"text-align: right;\">\n",
       "      <th></th>\n",
       "      <th>text</th>\n",
       "      <th>klass</th>\n",
       "    </tr>\n",
       "  </thead>\n",
       "  <tbody>\n",
       "    <tr>\n",
       "      <th>1661</th>\n",
       "      <td>¡QUE NO JOTO, QUE NO! 🙄 Si ya tenías mi follow...</td>\n",
       "      <td>0</td>\n",
       "    </tr>\n",
       "    <tr>\n",
       "      <th>3837</th>\n",
       "      <td>Cómo me encanta la verdad q me den así no me l...</td>\n",
       "      <td>0</td>\n",
       "    </tr>\n",
       "    <tr>\n",
       "      <th>1426</th>\n",
       "      <td>Que triste que andes pendiente de papá zorro m...</td>\n",
       "      <td>0</td>\n",
       "    </tr>\n",
       "    <tr>\n",
       "      <th>4869</th>\n",
       "      <td>Mejor donen culeros, putas ratas tu y el pende...</td>\n",
       "      <td>1</td>\n",
       "    </tr>\n",
       "    <tr>\n",
       "      <th>1191</th>\n",
       "      <td>Ganando como putas siempre con mis gordas ador...</td>\n",
       "      <td>0</td>\n",
       "    </tr>\n",
       "    <tr>\n",
       "      <th>...</th>\n",
       "      <td>...</td>\n",
       "      <td>...</td>\n",
       "    </tr>\n",
       "    <tr>\n",
       "      <th>334</th>\n",
       "      <td>Si pero porque hay lameculos en la coparmex, s...</td>\n",
       "      <td>1</td>\n",
       "    </tr>\n",
       "    <tr>\n",
       "      <th>1164</th>\n",
       "      <td>Hasta cuando este orgullo me deténdra a decirt...</td>\n",
       "      <td>1</td>\n",
       "    </tr>\n",
       "    <tr>\n",
       "      <th>2264</th>\n",
       "      <td>Tanto que lucharon los dreamers por daca para ...</td>\n",
       "      <td>1</td>\n",
       "    </tr>\n",
       "    <tr>\n",
       "      <th>947</th>\n",
       "      <td>ya dejen de mamar con sus chistes malos de los...</td>\n",
       "      <td>0</td>\n",
       "    </tr>\n",
       "    <tr>\n",
       "      <th>3689</th>\n",
       "      <td>@USUARIO @USUARIO @USUARIO Jajajajajjaja ese j...</td>\n",
       "      <td>0</td>\n",
       "    </tr>\n",
       "  </tbody>\n",
       "</table>\n",
       "<p>1265 rows × 2 columns</p>\n",
       "</div>"
      ],
      "text/plain": [
       "                                                   text  klass\n",
       "1661  ¡QUE NO JOTO, QUE NO! 🙄 Si ya tenías mi follow...      0\n",
       "3837  Cómo me encanta la verdad q me den así no me l...      0\n",
       "1426  Que triste que andes pendiente de papá zorro m...      0\n",
       "4869  Mejor donen culeros, putas ratas tu y el pende...      1\n",
       "1191  Ganando como putas siempre con mis gordas ador...      0\n",
       "...                                                 ...    ...\n",
       "334   Si pero porque hay lameculos en la coparmex, s...      1\n",
       "1164  Hasta cuando este orgullo me deténdra a decirt...      1\n",
       "2264  Tanto que lucharon los dreamers por daca para ...      1\n",
       "947   ya dejen de mamar con sus chistes malos de los...      0\n",
       "3689  @USUARIO @USUARIO @USUARIO Jajajajajjaja ese j...      0\n",
       "\n",
       "[1265 rows x 2 columns]"
      ]
     },
     "execution_count": 11,
     "metadata": {},
     "output_type": "execute_result"
    }
   ],
   "source": [
    "df_test = pd.concat([X_test, y_test], axis=1)\n",
    "print(df_test.shape)\n",
    "df_test"
   ]
  },
  {
   "cell_type": "code",
   "execution_count": 12,
   "id": "852a1eee-28c4-47eb-88c9-b805ca8e7764",
   "metadata": {},
   "outputs": [],
   "source": [
    "with open('..\\meoffendes2021_Es_train.json', 'w') as f:\n",
    "    f.write(df_train.to_json(orient='records', lines=True))\n",
    "    \n",
    "with open('..\\meoffendes2021_Es_test.json', 'w') as f:\n",
    "    f.write(df_test.to_json(orient='records', lines=True))"
   ]
  },
  {
   "cell_type": "code",
   "execution_count": 13,
   "id": "469e815a-2b81-4f55-97bc-38f6862c752e",
   "metadata": {},
   "outputs": [],
   "source": [
    "from EvoMSA.base import EvoMSA\n",
    "from microtc.utils import save_model\n",
    "from sklearn import metrics\n",
    "from microtc.utils import load_model\n",
    "from microtc.utils import save_model"
   ]
  },
  {
   "cell_type": "code",
   "execution_count": 14,
   "id": "2ed4c8a6-affe-4ffd-aa74-adcf67b1012c",
   "metadata": {},
   "outputs": [],
   "source": [
    "evo = EvoMSA(TR=True, B4MSA=False, lang='es', Emo=True, Aggress=True, models=None)\n",
    "\n",
    "# Pq a .squeeze() ? "
   ]
  },
  {
   "cell_type": "code",
   "execution_count": 15,
   "id": "2b60f822-bc1c-4e54-b293-2c13638d7efd",
   "metadata": {},
   "outputs": [
    {
     "name": "stderr",
     "output_type": "stream",
     "text": [
      "100%|██████████| 3/3 [01:28<00:00, 29.41s/it]\n",
      "100%|██████████| 5/5 [00:07<00:00,  1.43s/it]\n",
      "100%|██████████| 5/5 [00:01<00:00,  3.22it/s]\n",
      "100%|██████████| 5/5 [00:00<00:00, 70.61it/s]\n",
      "100%|██████████| 30/30 [22:30<00:00, 45.03s/it]  \n",
      "100%|██████████| 3/3 [00:22<00:00,  7.36s/it]\n",
      "100%|██████████| 3/3 [00:01<00:00,  2.89it/s]\n",
      "100%|██████████| 30/30 [00:21<00:00,  1.42it/s]"
     ]
    },
    {
     "name": "stdout",
     "output_type": "stream",
     "text": [
      "0.7566480556897693\n"
     ]
    },
    {
     "name": "stderr",
     "output_type": "stream",
     "text": [
      "\n"
     ]
    }
   ],
   "source": [
    "evo.fit(X_train.squeeze(), y_train.squeeze())\n",
    "pred = evo.predict(X_test.squeeze())\n",
    "print(metrics.f1_score(y_test, pred, average=\"macro\"))"
   ]
  },
  {
   "cell_type": "code",
   "execution_count": 16,
   "id": "dd0e43c3-a6f8-4c44-b79a-e7ff4edc4080",
   "metadata": {},
   "outputs": [],
   "source": [
    "# crear modelo pre-entrenado en Sigle par evitar efecto cascada\n",
    "save_model(evo, '..\\\\..\\\\single_models\\\\meoffendes21_single_Es.evomsa') "
   ]
  },
  {
   "cell_type": "markdown",
   "id": "664598c7-f5e8-4252-af0a-77849de0dc37",
   "metadata": {},
   "source": [
    "### Multiple\n",
    "-----"
   ]
  },
  {
   "cell_type": "code",
   "execution_count": null,
   "id": "77d1ca38-6245-4e62-9a94-a0139ea6c312",
   "metadata": {},
   "outputs": [],
   "source": [
    "stacked_method = \"sklearn.svm.LinearSVC\"\n",
    "# usar = \"sklearn.naive_bayes.BernoulliNB\"\n",
    "# usar = \"sklearn.naive_bayes.MultinomialNB\"\n",
    "\n",
    "haha18_model = [load_model('..\\\\..\\\\models\\\\haha2018_Es.evomsa'), stacked_method]\n",
    "mexa3t_model = [load_model('..\\\\..\\\\models\\\\mexa3t2018_aggress_Es.evomsa'), stacked_method]\n",
    "misoginia_model = [load_model('..\\\\..\\\\models\\\\misoginia_Es.evomsa'), stacked_method]\n",
    "\n",
    "exist21_model = [load_model('..\\\\..\\\\models\\\\exist2021_Es.evomsa'), stacked_method]\n",
    "haha21_model = [load_model('..\\\\..\\\\models\\\\haha2021_Es.evomsa'), stacked_method]\n",
    "\n",
    "mm = [haha_model, mexa3t_model, misoginia_model]\n",
    "\n",
    "evo = EvoMSA(TR=True, B4MSA=False, lang='es', Emo=True, Aggress=True, stacked_method=stacked_method, models= mm)"
   ]
  },
  {
   "cell_type": "code",
   "execution_count": null,
   "id": "27c0c105-0f55-40d8-be92-8fa0863434e2",
   "metadata": {},
   "outputs": [],
   "source": [
    "evo.fit(X_train.squeeze(), y_train.squeeze())\n",
    "pred = evo.predict(X_test.squeeze())\n",
    "print(metrics.f1_score(y_test, pred, average=\"macro\"))"
   ]
  },
  {
   "cell_type": "code",
   "execution_count": null,
   "id": "7d9c8d70-d4f1-4c64-bcac-3151880a5182",
   "metadata": {},
   "outputs": [],
   "source": [
    "# crear modelo pre-entrenado\n",
    "save_model(evo, '..\\\\..\\\\models\\\\exist2021_Es.evomsa') "
   ]
  },
  {
   "cell_type": "code",
   "execution_count": null,
   "id": "f8cd1507-2e79-455c-9658-74caa16b42d5",
   "metadata": {},
   "outputs": [],
   "source": [
    "# probarlo\n",
    "_ = load_model('..\\\\..\\\\models\\\\exist2021_Es.evomsa') \n",
    "pred = _.predict(X_test.squeeze())\n",
    "print(metrics.f1_score(y_test, pred, average=\"macro\"))"
   ]
  },
  {
   "cell_type": "code",
   "execution_count": null,
   "id": "8a5e35db-295b-47ff-8d1b-d8d0a0e67892",
   "metadata": {},
   "outputs": [],
   "source": []
  }
 ],
 "metadata": {
  "kernelspec": {
   "display_name": "Python 3 (ipykernel)",
   "language": "python",
   "name": "python3"
  },
  "language_info": {
   "codemirror_mode": {
    "name": "ipython",
    "version": 3
   },
   "file_extension": ".py",
   "mimetype": "text/x-python",
   "name": "python",
   "nbconvert_exporter": "python",
   "pygments_lexer": "ipython3",
   "version": "3.8.13"
  }
 },
 "nbformat": 4,
 "nbformat_minor": 5
}
