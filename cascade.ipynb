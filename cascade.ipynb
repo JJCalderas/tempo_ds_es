{
 "cells": [
  {
   "cell_type": "markdown",
   "id": "7398ccf3-91b9-433f-bf59-dd5b773b5fea",
   "metadata": {},
   "source": [
    "### A, AB, ABC, ABCD, ...."
   ]
  },
  {
   "cell_type": "code",
   "execution_count": 3,
   "id": "25127adb-d20f-414c-b6c0-9259cf33b15b",
   "metadata": {},
   "outputs": [],
   "source": [
    "import pandas as pd\n",
    "import numpy as np\n",
    "from glob import glob\n",
    "from EvoMSA.base import EvoMSA\n",
    "\n",
    "from sklearn.model_selection import train_test_split"
   ]
  },
  {
   "cell_type": "code",
   "execution_count": null,
   "id": "43c7163d-86ee-4224-a313-62186f8fe9c4",
   "metadata": {},
   "outputs": [],
   "source": [
    "fnames = glob(\"../*_Es_train.json\")\n",
    "fnames.sort()\n",
    "\n",
    "premodels = []\n",
    "\n",
    "for fn in fnames:\n",
    "    \n",
    "    train_df = pd.read_json(fn, lines=True)\n",
    "    test_df = pd.read_json(fn.replace(\"_train\", \"_test\"), lines=True)\n",
    "\n",
    "    # recortarlos\n",
    "    train_df = train_df.loc[0:29, ['text', 'klass']]\n",
    "    test_df = test_df.loc[0:9, ['text', 'klass']]\n",
    "\n",
    "    X_train = train_df[['text']]\n",
    "    y_train = train_df[['klass']]\n",
    "    \n",
    "    X_test = test_df[['text']]\n",
    "    y_test = test_df[['klass']]\n",
    "    \n",
    "    ds_n = fn.replace(\"..\\\\\",'').replace('_Es_train.json','')\n",
    "    \n",
    "    print(ds_n)\n",
    "    print(premodels)\n",
    "    \n",
    "    evo = EvoMSA(TR=True, B4MSA=False, lang='es', Emo=True, Aggress=True, models=premodels)\n",
    "    pre_model = evo.fit(X_train.squeeze(), y_train.squeeze())\n",
    "    \n",
    "    premodels.append([pre_model, \"sklearn.svm.LinearSVC\"]) \n",
    "    \n",
    "    "
   ]
  },
  {
   "cell_type": "code",
   "execution_count": 1,
   "id": "4f98ff61-8347-4c13-8c28-370843ce7593",
   "metadata": {},
   "outputs": [
    {
     "ename": "NameError",
     "evalue": "name 'results' is not defined",
     "output_type": "error",
     "traceback": [
      "\u001b[1;31m-----------------------------------------Test----------------------------------\u001b[0m",
      "\u001b[1;31mNameError\u001b[0m                                 Traceback (most recent call last)",
      "Input \u001b[1;32mIn [1]\u001b[0m, in \u001b[0;36m<cell line: 1>\u001b[1;34m()\u001b[0m\n\u001b[1;32m----> 1\u001b[0m \u001b[43mresults\u001b[49m\n",
      "\u001b[1;31mNameError\u001b[0m: name 'results' is not defined"
     ]
    }
   ],
   "source": [
    "results"
   ]
  },
  {
   "cell_type": "code",
   "execution_count": 2,
   "id": "a03dc71a-8840-4aab-b668-335ae58ebbc1",
   "metadata": {},
   "outputs": [
    {
     "ename": "NameError",
     "evalue": "name 'premodels' is not defined",
     "output_type": "error",
     "traceback": [
      "\u001b[1;31m---------------------------------------------------------------------------\u001b[0m",
      "\u001b[1;31mNameError\u001b[0m                                 Traceback (most recent call last)",
      "Input \u001b[1;32mIn [2]\u001b[0m, in \u001b[0;36m<cell line: 1>\u001b[1;34m()\u001b[0m\n\u001b[1;32m----> 1\u001b[0m \u001b[43mpremodels\u001b[49m\n",
      "\u001b[1;31mNameError\u001b[0m: name 'premodels' is not defined"
     ]
    }
   ],
   "source": [
    "premodels"
   ]
  },
  {
   "cell_type": "code",
   "execution_count": null,
   "id": "8455ef86-fb51-4c44-b3ea-319696a8734e",
   "metadata": {},
   "outputs": [],
   "source": []
  }
 ],
 "metadata": {
  "kernelspec": {
   "display_name": "Python 3 (ipykernel)",
   "language": "python",
   "name": "python3"
  },
  "language_info": {
   "codemirror_mode": {
    "name": "ipython",
    "version": 3
   },
   "file_extension": ".py",
   "mimetype": "text/x-python",
   "name": "python",
   "nbconvert_exporter": "python",
   "pygments_lexer": "ipython3",
   "version": "3.9.12"
  }
 },
 "nbformat": 4,
 "nbformat_minor": 5
}
